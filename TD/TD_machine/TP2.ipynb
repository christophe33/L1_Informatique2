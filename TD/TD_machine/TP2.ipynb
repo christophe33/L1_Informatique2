{
 "cells": [
  {
   "cell_type": "markdown",
   "id": "07ee7802-0495-412a-ab5e-97d9b2073aa1",
   "metadata": {},
   "source": [
    "# TP3 : Fonctions Récursives"
   ]
  },
  {
   "cell_type": "markdown",
   "id": "28757be5-5b1c-48e1-9c20-c79a18137544",
   "metadata": {},
   "source": [
    "Pour tester vos fonctions et mieux comprendre les appels récursifs il est conseillé d'utiliser Python Tutor : http://www.pythontutor.com/visualize.html#mode=edit\n",
    "\n",
    "Vous pouvez également remplir ce notebook en ligne avec le lien suivant : \n",
    "\n",
    "https://mybinder.org/v2/gh/christophe33/L1_Informatique2.git/HEAD\n",
    "\n",
    "Pour accéder au **TP2.ipynb** utiliser l'explorateur de fichiers qui se trouve sur la gauche de la fenêtre.\n",
    "\n",
    "\n",
    "**Attention vous devrez le suavegarder sur votre machine sinon votre travail sera perdu**\n",
    "\n",
    "## Une série de petits exercices"
   ]
  },
  {
   "cell_type": "markdown",
   "id": "6bbee4de-9637-455b-9036-4998b5f59b58",
   "metadata": {},
   "source": [
    "Éxécuter la cellule suivante"
   ]
  },
  {
   "cell_type": "code",
   "execution_count": 3,
   "id": "0ec9e588-465e-41f2-830b-dbca02cc20a6",
   "metadata": {},
   "outputs": [],
   "source": [
    "from array import *\n",
    "from random import randint as rd"
   ]
  },
  {
   "cell_type": "markdown",
   "id": "a4d05eb0-d2ff-4f8d-92b2-c7cf96ae4daa",
   "metadata": {},
   "source": [
    "*  Rendre récursive la fonction somme suivante :"
   ]
  },
  {
   "cell_type": "code",
   "execution_count": null,
   "id": "dad6afad-98b5-4b81-a2ac-a7edd9e34c0a",
   "metadata": {},
   "outputs": [],
   "source": [
    "def sumList (L:list)->int:\n",
    "    s = 0\n",
    "    for valeur in L :\n",
    "        s += valeur\n",
    "    return s"
   ]
  },
  {
   "cell_type": "code",
   "execution_count": null,
   "id": "6783c241-d310-467d-955c-94c6fb50b4cc",
   "metadata": {},
   "outputs": [],
   "source": []
  },
  {
   "cell_type": "markdown",
   "id": "1fe0d51d-7405-41f9-b150-c1f404f2f225",
   "metadata": {},
   "source": [
    "* Écrire une fonction récursive **oneComplement(t:array, n:int)->array:** qui prend en argument un nombre binaire sous la forme d'un tableau **t** d'entiers courts, son nombre d'éléments **n** et qui renvoie le nombre complémentaire (0 devient 1 et 1 devient 0) dans le même tableau."
   ]
  },
  {
   "cell_type": "code",
   "execution_count": 7,
   "id": "3a9f2415-60f1-41d0-b08b-d29de17c7ac4",
   "metadata": {},
   "outputs": [],
   "source": []
  },
  {
   "cell_type": "code",
   "execution_count": 8,
   "id": "622b9594-38ce-40fc-a474-8dcc19a8add8",
   "metadata": {},
   "outputs": [
    {
     "name": "stdout",
     "output_type": "stream",
     "text": [
      "array('i', [0, 0, 0, 1])\n"
     ]
    }
   ],
   "source": [
    "t = array('i', [1,1,1,0])\n",
    "oneComplement(t, len(t))\n",
    "print(t)"
   ]
  },
  {
   "cell_type": "markdown",
   "id": "835b6261-22f6-4cb3-b964-1a4b5a9a9bbe",
   "metadata": {},
   "source": [
    "* Écrire une fonction récursive **reverse(t:array, n:int, i:int=0)->array:** qui prend en argument un tableau  de caractères **t**, le nombre d'éléments **n**, un indice **i** qui vaut $0$ par défaut et qui renvoie le tableau avec les caractères ordonnés en sens inverse."
   ]
  },
  {
   "cell_type": "code",
   "execution_count": 9,
   "id": "625c00c1-ae07-4659-a80c-9d68419b7d97",
   "metadata": {},
   "outputs": [],
   "source": []
  },
  {
   "cell_type": "code",
   "execution_count": 11,
   "id": "3867ff7e-475a-446e-8d78-7117d86d9eb8",
   "metadata": {},
   "outputs": [
    {
     "name": "stdout",
     "output_type": "stream",
     "text": [
      "array('u', 'titep')\n"
     ]
    }
   ],
   "source": [
    "t = array('u', [\"p\",\"e\",\"t\",\"i\",\"t\"])\n",
    "reverse(t, len(t))\n",
    "print(t)"
   ]
  },
  {
   "cell_type": "markdown",
   "id": "703a3c1d-197e-45fd-b8f2-d926583c6167",
   "metadata": {},
   "source": [
    "* Écrire une fonction **sumPositiveNumber(t:array, n:int, i:int)->int:** récursive qui prend en arguments un tableau, sa taille, un indice et qui renvoie la somme des entiers positifs entre l'indice inclu et la fin du tableau."
   ]
  },
  {
   "cell_type": "code",
   "execution_count": 15,
   "id": "45bb358b-32dc-4651-9221-c25e66a95c98",
   "metadata": {},
   "outputs": [],
   "source": []
  },
  {
   "cell_type": "code",
   "execution_count": 16,
   "id": "19c4f96f-b2c3-4b61-85e7-2a68d3d0cd4e",
   "metadata": {},
   "outputs": [
    {
     "data": {
      "text/plain": [
       "7"
      ]
     },
     "execution_count": 16,
     "metadata": {},
     "output_type": "execute_result"
    }
   ],
   "source": [
    "t = array('l', [2, 3, -1, 4])\n",
    "sumPositiveNumber(t, len(t), 1)"
   ]
  },
  {
   "cell_type": "markdown",
   "id": "a81aba63-8eb9-41cd-a6a4-1cf95823fc54",
   "metadata": {},
   "source": [
    "* Écrire une fonction récursive qui prend en argument un tableau, sa taille et qui renvoie **True** si le tableau est trié et **False** sinon."
   ]
  },
  {
   "cell_type": "code",
   "execution_count": null,
   "id": "d6fae3aa-1c9a-4489-90bd-1987cc828f9f",
   "metadata": {},
   "outputs": [],
   "source": []
  },
  {
   "cell_type": "markdown",
   "id": "3bf528f9-d868-47e3-acf6-33cd9822b513",
   "metadata": {},
   "source": [
    "* Un nombre $N$ est pair si ($N-1$) est impair, et un nombre $N$ est impair si ($N-1$) est pair. Ecrire deux fonctions récursives croisées **pair(N)** et **impair(N)** permettant de savoir si un nombre $N$ est pair ou impair."
   ]
  },
  {
   "cell_type": "code",
   "execution_count": null,
   "id": "577f3026-24d0-46cf-b24d-488ba7c779f5",
   "metadata": {},
   "outputs": [],
   "source": []
  },
  {
   "cell_type": "markdown",
   "id": "8266685f-36f5-46cb-8940-1cde1442b092",
   "metadata": {},
   "source": [
    "* Écrire une fonction récursive qui prend en argument un tableau, sa taille et qui renvoie le maximum de ce tableau. Pensez à diviser pour régner."
   ]
  },
  {
   "cell_type": "code",
   "execution_count": null,
   "id": "1befe682-8874-4aee-bfbb-a9c375a884f5",
   "metadata": {},
   "outputs": [],
   "source": []
  },
  {
   "cell_type": "markdown",
   "id": "8097a9fd-2066-4cde-bd72-6540ac2a3ac7",
   "metadata": {},
   "source": [
    "* Il s’agit de distinguer les nombres premiers. Le test le plus simple est le suivant : pour tester un nombre entier $N$, on vérifie s'il est divisible par l’un des entiers compris entre $1$ et $N$ (bornes non comprises). Si la réponse est négative, alors $N$ est premier. Écrire une fonction récursive **primeNumber(N, i=0)** qui prend en argument un nombre entier **N**, un indice **i** qui vaut $0$ par défaut et qui renvoie **True** si celui-ci est premier et **False** sinon."
   ]
  },
  {
   "cell_type": "code",
   "execution_count": null,
   "id": "5effd430-b376-4f02-bbe8-5ccbd798828a",
   "metadata": {},
   "outputs": [],
   "source": []
  },
  {
   "cell_type": "markdown",
   "id": "9611da2e-5521-4daf-889e-f2cda3f91490",
   "metadata": {},
   "source": [
    "## Retour sur la fraction égyptienne"
   ]
  },
  {
   "cell_type": "markdown",
   "id": "25488fcb-2ce7-4792-be87-cd1cb7529e53",
   "metadata": {},
   "source": [
    "À l'aide de l'énoncé du TD3 proposer une solution en implémentant la fonction suivante : **fractionEgyptienneV2 (a:int, b:int, t:array, i:int=0)->int:**. Cette fonction prend en paramètres le numérateur et le dénominateur de la fraction, un tableau, un indice de position qui vaut $0$ par défaut et remplie ce même tableau avec les différents dénominateurs de la décomposition égyptienne."
   ]
  },
  {
   "cell_type": "code",
   "execution_count": 17,
   "id": "4bee6b7d-4178-4b7d-aab4-5253fd29df89",
   "metadata": {},
   "outputs": [],
   "source": []
  },
  {
   "cell_type": "code",
   "execution_count": 18,
   "id": "9065b9d5-ffe2-47d2-8fb5-987103c6c3c1",
   "metadata": {},
   "outputs": [
    {
     "name": "stdout",
     "output_type": "stream",
     "text": [
      "array('l', [5, 6, 7, 42, 30, 31, 930, 0, 0, 0])\n"
     ]
    }
   ],
   "source": [
    "t = array('l', [0]*10)\n",
    "fractionEgyptienneV2 ( 3, 5, t)\n",
    "print(t)"
   ]
  },
  {
   "cell_type": "markdown",
   "id": "32564541-3dd8-4bec-b5a2-1f0817c70ccc",
   "metadata": {},
   "source": [
    "## La suite de Fibonnaci "
   ]
  },
  {
   "cell_type": "markdown",
   "id": "0f5ccb29-4dfb-4735-8c47-586d9b1e08be",
   "metadata": {},
   "source": [
    "Considérons la suite numérique ainsi définie :\n",
    "\n",
    "* $F_0 = 0$\n",
    "* $F_1 = 1$\n",
    "* $ \\forall n \\in \\mathbb{N}, F_{n+2} = F_{n+1}+F_n$\n",
    "\n",
    "On a donc:\n",
    "\n",
    "$F_2=0+1=1$\n",
    "\n",
    "$F_3=F_2+F_1=1+1=2$,\n",
    "\n",
    "$F_4=F_3+F_2=2+1=3\\ \\dots$\n",
    "\n",
    "1. Écrire une fonction **fiboRecursive** qui calcule à l'aide d'une méthode recursive le n-ième terme de la suite de Fibonnaci.\n",
    "2. Observer en détail la pile d'exécution lors du calcul de **fiboRecursive(4)** avec PythonTutor\n",
    "3. Écrire une fonction **fiboIterative** qui calcule à l'aide d'une méthode itérative le n-ième terme de la suite de Fibonnaci.\n",
    "4. Comparer les temps moyens d'exécution pour le terme de rang $n=20$ à l'aide des instructions suivantes."
   ]
  },
  {
   "cell_type": "code",
   "execution_count": null,
   "id": "66177a44-b02a-4349-9fce-f8441836cf52",
   "metadata": {},
   "outputs": [],
   "source": [
    "def fiboRecursive(N:int)->int:"
   ]
  },
  {
   "cell_type": "code",
   "execution_count": null,
   "id": "a1d0d92e-ebfb-43e7-ad80-1378ae066a3b",
   "metadata": {},
   "outputs": [],
   "source": [
    "%%timeit\n",
    "fiboRecursive(20)"
   ]
  },
  {
   "cell_type": "code",
   "execution_count": null,
   "id": "579d4a23-e6bc-433b-a880-67f0c618ceda",
   "metadata": {},
   "outputs": [],
   "source": [
    "def fiboIterative(N:int)->int:"
   ]
  },
  {
   "cell_type": "code",
   "execution_count": null,
   "id": "66b57322-9c8f-49ab-a412-8e6768a815a3",
   "metadata": {
    "tags": []
   },
   "outputs": [],
   "source": [
    "%%timeit\n",
    "fiboIterative(20)"
   ]
  },
  {
   "cell_type": "markdown",
   "id": "4615fa01-1be5-4956-9123-8febb07917aa",
   "metadata": {},
   "source": [
    "* Quelle est la fonction qui a la meilleure complexité temporelle ?\n",
    "* Même question avec la complexité spatiale."
   ]
  },
  {
   "cell_type": "markdown",
   "id": "3e4ceb4d-9e23-41ea-ab86-3e54c9867912",
   "metadata": {},
   "source": [
    "#### cliquer dans cette cette cellule pour rédiger votre réponse sous forme de texte "
   ]
  },
  {
   "cell_type": "markdown",
   "id": "d7e98ba1-0d03-4b0f-8262-bfb44a0dfd16",
   "metadata": {},
   "source": [
    "## Labyrinthe"
   ]
  },
  {
   "cell_type": "markdown",
   "id": "688b1762-7ea4-40c5-9851-30a7a40ac0f9",
   "metadata": {},
   "source": [
    "Un labyrinthe peut-être représenté à l'aide d'une matrice carrée de la forme : $\\mathcal{M}_{ n,n}(\\{0,1\\})$ avec $n\\in \\mathbb{N^*}$. On décide que la valeur $1$ indique un couloir et que la valeur $0$ indique un mur. À partir d’une cellule donnée, nous sommes autorisés à passer aux cellules $(i + 1, j)$ et $(i, j + 1)$ uniquement\n",
    "\n",
    "Exemple d'un labyrinthe de dimension $(4\\times 4)$\n",
    "\n",
    "$$ M = \\begin{pmatrix}\n",
    "  1 & 1 & 1 & 1 \\\\\n",
    "  1 & 0 & 1 & 1 \\\\\n",
    "  0 & 1 & 1 & 1 \\\\\n",
    "  1 & 1 & 1 & 1 \\end{pmatrix}$$\n",
    "\n",
    "![labyrinthe](images/lab.png)\n",
    "\n",
    "1. Tracer à la main tous les chemins possibles pour aller de la case $(0, 0)$ à la case $(3, 3)$.\n",
    "2. Écrire une fonction récursive permettant de calculer tous les chemins possibles en partant de la case $(0,0)$ pour atteindre la case $(n-1, n-1)$."
   ]
  },
  {
   "cell_type": "code",
   "execution_count": null,
   "id": "ed19c6da-c377-4f59-b128-3517ce564a56",
   "metadata": {},
   "outputs": [],
   "source": []
  },
  {
   "cell_type": "code",
   "execution_count": null,
   "id": "3cfb2e55-3c0d-4c0b-9866-0a82b6790559",
   "metadata": {},
   "outputs": [],
   "source": []
  }
 ],
 "metadata": {
  "kernelspec": {
   "display_name": "Python 3 (ipykernel)",
   "language": "python",
   "name": "python3"
  },
  "language_info": {
   "codemirror_mode": {
    "name": "ipython",
    "version": 3
   },
   "file_extension": ".py",
   "mimetype": "text/x-python",
   "name": "python",
   "nbconvert_exporter": "python",
   "pygments_lexer": "ipython3",
   "version": "3.9.7"
  }
 },
 "nbformat": 4,
 "nbformat_minor": 5
}
