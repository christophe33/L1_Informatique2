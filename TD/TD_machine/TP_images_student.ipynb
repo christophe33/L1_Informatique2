{
 "cells": [
  {
   "cell_type": "markdown",
   "id": "2047ec48-b454-40a9-a3ba-625f18c6180c",
   "metadata": {},
   "source": [
    "<div style=\"background-color: #f8ece0; border-radius: 5px; border: 2px solid #61380B; padding: 3px; width: 380px; margin: auto;\">\n",
    "<h1>TP: Détection de contours</h1></div>"
   ]
  },
  {
   "cell_type": "markdown",
   "id": "14bd49b4-9f78-4c8d-81ee-94501cd2c184",
   "metadata": {},
   "source": [
    "Pour lancer un notebook jupyterlab avec l'extension moon, réaliser les instructions suivantes dans un terminal Linux du CREMI\n",
    "```\n",
    "cd /net/ens/python/miniconda3/bin\n",
    ". activate\n",
    "conda activate moon-juptlab\n",
    "cd ~\n",
    "jupyter lab\n",
    "```"
   ]
  },
  {
   "cell_type": "markdown",
   "id": "ba07a8b1-afb1-456c-94f8-952174b207c4",
   "metadata": {},
   "source": [
    "Vérifier l'installation de pillow (PIL)\n",
    "\n",
    "Les instructions de cette première partie sont à tester pour vérifier le bon fonctionnement des outils. Il est fortement conseillé de prendre un peu de temps pour réaliser les tests et faire éventuellement les réglages nécessaires sur votre distribution Python (Anaconda) pour que l'image s'affiche avec l'instruction *show()* et utiliser un chemin relatif."
   ]
  },
  {
   "cell_type": "code",
   "execution_count": null,
   "id": "92f8221c-38fe-453f-8370-fcd2edc85cbf",
   "metadata": {},
   "outputs": [],
   "source": [
    "from PIL.Image import *"
   ]
  },
  {
   "cell_type": "markdown",
   "id": "e812015c-d20a-4dd6-890d-4a781debf90d",
   "metadata": {},
   "source": [
    "Compléter le code de la cellule suivante pour afficher la taille de l'image *toon.png*. Vous remarquerez que pour afficher l'image dans le notebook on utilise la fonction `display`"
   ]
  },
  {
   "cell_type": "code",
   "execution_count": null,
   "id": "3bdbc8b5-c3dc-4244-8813-1e10d81efcf2",
   "metadata": {},
   "outputs": [],
   "source": [
    "toon = open(\"images/toon.png\")\n",
    "#your code\n",
    "display(toon)\n",
    "print(f\"largeur = {largeur}, hauteur = {hauteur}\")"
   ]
  },
  {
   "cell_type": "markdown",
   "id": "3a1c657c-ef8c-4030-9bb9-3b7db2381691",
   "metadata": {},
   "source": [
    "**Optionnel** La même dans une fenêtre en dehors du notebook"
   ]
  },
  {
   "cell_type": "code",
   "execution_count": null,
   "id": "6fdfe752-8703-4986-bb6e-a4a9b2d28dbb",
   "metadata": {},
   "outputs": [],
   "source": [
    "# Your code"
   ]
  },
  {
   "cell_type": "markdown",
   "id": "3ddf4a8a-1d9f-429a-8339-3ce9bfb69409",
   "metadata": {},
   "source": [
    "Les parties A et B :  **Niveaux de gris et binarisation** et **Approche Naïve de la détection de contours** sont indépendantes\n",
    "\n",
    "## Partie A : Niveaux de gris et binarisation"
   ]
  },
  {
   "cell_type": "markdown",
   "id": "e1b39e07-30de-4bdc-933c-0dd67c52f42c",
   "metadata": {},
   "source": [
    "Écrire une fonction `monochrome(img)` qui prend en parmètres une image couleur et renvoie une image de même taille mais en niveau de gris. Pour chaque pixel la fonction calcule l'intensité avec $$lum = \\frac{r + g + b}{3}$$ et peint le pixel de la nouvelle image avec $(lum, lum, lum)$."
   ]
  },
  {
   "cell_type": "code",
   "execution_count": null,
   "id": "7ca80695-adf6-4bc0-9181-435729ed7c12",
   "metadata": {},
   "outputs": [],
   "source": [
    "def monochrome(img):\n",
    "    #your code\n",
    "    pass"
   ]
  },
  {
   "cell_type": "markdown",
   "id": "ee536415-0605-46be-8208-0a0d21f12c93",
   "metadata": {},
   "source": [
    "Tester la fonction `monochrome`  dans la cellule ci-dessous avec l'image *toon.png*"
   ]
  },
  {
   "cell_type": "code",
   "execution_count": null,
   "id": "fbbd8774-6cf5-4b93-8494-501485c2b77c",
   "metadata": {},
   "outputs": [],
   "source": [
    "#your code"
   ]
  },
  {
   "cell_type": "markdown",
   "id": "d598740b-fe38-4e15-9d16-bfe732062ae4",
   "metadata": {},
   "source": [
    "Vous pouvez remarquez qu'avec cette transformation nous perdons certains détails comme le fait que les cactus contiennent des nuances de couleurs. Cette différence est dûe au fait que les couleurs avec des longueurs d'onde différentes sont perçues différemment par l'oeil humain. Nous allons affecter aux différentes couleurs différents poids. L'oeil humain est sensible au vert, ainsi le poids le plus élevé est utilisé pour le vert $0.7152$, le moins sensible est le bleu, avec un poids de $0.0722$, et le rouge utilise un poids de $0.2126$.\n",
    "\n",
    "$$lum = 0.2126*r+0.7152*g+0.0722*b$$\n",
    "\n",
    "Modifier la fonction `monochrome` en conséquence."
   ]
  },
  {
   "cell_type": "markdown",
   "id": "935a4bff-ae53-480d-9cd4-b9dd4e1f13dd",
   "metadata": {},
   "source": [
    "Observer la différence en testant votre nouvelle fonction monochrome dans la cellule ci-dessous."
   ]
  },
  {
   "cell_type": "code",
   "execution_count": null,
   "id": "6e8ffe4c-ff2b-4695-afc8-2e70b2dcfa40",
   "metadata": {},
   "outputs": [],
   "source": [
    "#your code"
   ]
  },
  {
   "cell_type": "markdown",
   "id": "53e0d57b-5732-413a-a4e7-121489612385",
   "metadata": {},
   "source": [
    "La **binarisation** est la transformation d'une image en niveaux de gris en image binaire (noir et blanc). Pour cela nous allons utiliser une technique très simple appelée seuillage. Le seuillage d'image est une méthode permettant de rassembler entre eux les pixels d'une région à partir d'un critère précis. Dans notre exemple à partir d'une image en niveaux de gris, le seuillage d'image peut être utilisé pour créer une image comportant uniquement deux couleurs, noir et blanc, d'où la notion d'image binaire. Ces deux couleurs sont définies par les niveaux d'intensité de gris 0 pour le noir et 255 pour le blanc. Le seuillage d'image permet donc de remplacer un à un les pixels d'une image en comparant avec une valeur seuil, les pixels de la nouvelle image prennent la valeur 0 en dessous du seuil et la valeur 255 sinon.\n",
    "\n",
    "Écrire une fonction `seuillage(img)` qui prend en parmètre une image et renvoie une image dont les pixels d'intensité inférieure ou égale à 127 sont noirs et ceux d'intensité strictement supérieure à 127 sont blancs"
   ]
  },
  {
   "cell_type": "code",
   "execution_count": null,
   "id": "990045d0-d43b-4abe-90f3-2953694be1d1",
   "metadata": {},
   "outputs": [],
   "source": [
    "def seuillage(img, seuil = 127):\n",
    "    #your code\n",
    "    pass"
   ]
  },
  {
   "cell_type": "markdown",
   "id": "9a6a982f-4ee5-45ff-ac51-0bf56e7b9d97",
   "metadata": {},
   "source": [
    "Tester la fonction `seuillage`  sur l'image monochrome de *toon.png* dans la cellule ci-dessous."
   ]
  },
  {
   "cell_type": "code",
   "execution_count": null,
   "id": "d0119a45-f870-4fe0-a77f-5c5313230dd6",
   "metadata": {},
   "outputs": [],
   "source": [
    "#your code"
   ]
  },
  {
   "cell_type": "markdown",
   "id": "bcd88bce-0a1a-4851-9318-d2ab21ad9416",
   "metadata": {},
   "source": [
    "## Partie B : Approche naïve de la détection de contours"
   ]
  },
  {
   "cell_type": "markdown",
   "id": "a1a0ba24-6dfd-4144-8afc-c5ba06fc9fc1",
   "metadata": {},
   "source": [
    "Commençons avec une image binaire comme ci-dessous : contoursV.png. Elle présente une seule discontinuité de l'intensité. Les bords noirs ne sont pas présents sur le fichier image, ils ont été ajoutés uniquement pour délimiter les bords de l'image sur le fond blanc de la page. Les contours cherchés se réduisent dans ce cas à une ligne verticale, frontière entre le noir et le blanc. Notre objectif est d'obtenir une nouvelle image dans laquelle seule cette frontière sera conservée.\n",
    "\n",
    "![contoursV](images/contoursVAvecCadre.png)\n",
    "\n",
    "Écrire une fonction `contoursV(img)` qui prend en paramètre une image et renvoie une nouvelle image de même taille avec pour chaque pixel la valeur de la différence des intensités entre le pixel $(i,j)$ et le pixel $(i-1, j)$."
   ]
  },
  {
   "cell_type": "code",
   "execution_count": null,
   "id": "8d83e8d1-591a-4330-93c0-54320107a47e",
   "metadata": {},
   "outputs": [],
   "source": [
    "def contoursV(img):\n",
    "    #your code\n",
    "    pass"
   ]
  },
  {
   "cell_type": "markdown",
   "id": "8a078402-a3d8-4d51-a6cb-3529889f0a45",
   "metadata": {},
   "source": [
    "Appliquer la fonction `contoursV` à l'image *contoursV.png* puis *formes.png*. **Attention ces images sont déjà monochromes.**"
   ]
  },
  {
   "cell_type": "code",
   "execution_count": null,
   "id": "21aa1103-102b-4138-aa57-2ce2b0e9e6bc",
   "metadata": {},
   "outputs": [],
   "source": [
    "#your code"
   ]
  },
  {
   "cell_type": "code",
   "execution_count": null,
   "id": "6d2963c5-195d-47b4-901b-fb3b59eb6613",
   "metadata": {},
   "outputs": [],
   "source": [
    "#your code"
   ]
  },
  {
   "cell_type": "markdown",
   "id": "bdd96071-e9a3-43ed-9ea0-e94b39086594",
   "metadata": {},
   "source": [
    "Que remarquez-vous avec l'image *formes.png* ? Vous repondrez à cette question dans cette même cellule en faisant un double clic dessus\n",
    "\n",
    "**Votre réponse :** "
   ]
  },
  {
   "cell_type": "markdown",
   "id": "554f274a-76f9-4db3-9a83-ac55abe4b466",
   "metadata": {},
   "source": [
    "Écrire une fonction `contoursH(img)` qui prend en paramètre une image et renvoie une nouvelle image de même taille avec pour chaque pixel la valeur de la différence des intensités entre le pixel $(i,j)$ et le pixel $(i, j-1)$."
   ]
  },
  {
   "cell_type": "code",
   "execution_count": null,
   "id": "29b78d8e-5011-4c07-b9c1-f3ba3d223ddd",
   "metadata": {},
   "outputs": [],
   "source": [
    "def contoursH(img):\n",
    "    #your code\n",
    "    pass"
   ]
  },
  {
   "cell_type": "markdown",
   "id": "4177026a-c482-4928-8ef5-1866baade222",
   "metadata": {},
   "source": [
    "Appliquer la fonction `contoursH` à l'image *contoursV.png* puis *formes.png*."
   ]
  },
  {
   "cell_type": "code",
   "execution_count": null,
   "id": "fbe97057-ab27-4e0e-9706-a8352cd27ec6",
   "metadata": {},
   "outputs": [],
   "source": [
    "#your code"
   ]
  },
  {
   "cell_type": "code",
   "execution_count": null,
   "id": "9fd2412a-fcbf-40d5-be7a-9b81b8d5bfd7",
   "metadata": {},
   "outputs": [],
   "source": [
    "#your code"
   ]
  },
  {
   "cell_type": "markdown",
   "id": "823b9e4e-3b82-4aea-8438-4d22774173ac",
   "metadata": {},
   "source": [
    "Que remarquez-vous pour l'image *formes.png* ? Vous repondrez à cette question dans cette même cellule en faisant un double clic dessus\n",
    "\n",
    "**Votre réponse :** "
   ]
  },
  {
   "cell_type": "markdown",
   "id": "68de6668-fc35-49a9-9434-874ae471ae5f",
   "metadata": {},
   "source": [
    "À l'aide des fonctions `contoursV` et `contoursH` écrire une fonction `contoursNaifImage(img)` qui prend en paramètre une image source et renvoie uniquement les contours détectés de l'image source. L'intensité de chaque pixel de l'image finale ($I_F$) sera calculée à l'aide de la relation suivante : \n",
    "\n",
    "$$I_F(x,y) = \\sqrt{I_{CV}^2(x,y) + I_{CH}^2(x,y)}$$\n",
    "avec \n",
    "* $I_{CV}$ : image obtenue avec la fonction `contoursV`\n",
    "* $I_{CH}$ : image obtenue avec la fonction `contoursH`"
   ]
  },
  {
   "cell_type": "code",
   "execution_count": null,
   "id": "c6f4d0b2-350d-4417-a5e9-40c0c297fb40",
   "metadata": {},
   "outputs": [],
   "source": [
    "from math import sqrt\n",
    "def contoursNaifImage(img):\n",
    "    #your code\n",
    "    pass"
   ]
  },
  {
   "cell_type": "markdown",
   "id": "f7ad07c7-df0d-4d69-ae78-c894b86a52a9",
   "metadata": {},
   "source": [
    "Appliquer la fonction `contoursNaifImage` à *formes.png* "
   ]
  },
  {
   "cell_type": "code",
   "execution_count": null,
   "id": "e5f614b0-01bb-49d6-89d8-773ef14a45a6",
   "metadata": {},
   "outputs": [],
   "source": [
    "#your code"
   ]
  },
  {
   "cell_type": "markdown",
   "id": "b04cc9f7-db39-4221-85b3-44f2eef8bc11",
   "metadata": {},
   "source": [
    "## Partie C : Détection de contours et seuillage"
   ]
  },
  {
   "cell_type": "markdown",
   "id": "7a0c466e-ad70-406e-ac79-0acfcdf43e32",
   "metadata": {},
   "source": [
    "Essayons maintenant notre détection de contours sur l'image monochrome de notre toon. On observe que tous les contours ne sont pas forcément bien marqués. L'herbe des rochers n'est complète et les nuages sont à peine visibles.\n",
    "\n",
    "![contours_monochrome](images/contours_monochrome.png)"
   ]
  },
  {
   "cell_type": "markdown",
   "id": "b049bd78-a1af-46e0-8b47-3686947a5ec3",
   "metadata": {},
   "source": [
    "La binarisation de notre image permet d'améliorer la détection des contours. Dans la cellule ci-dessous utiliser à nouveau notre détecteur de contours sur l'image ainsi binariser de *toon.png*."
   ]
  },
  {
   "cell_type": "code",
   "execution_count": null,
   "id": "c746e94c-87be-4640-b892-01a7ba80a06b",
   "metadata": {},
   "outputs": [],
   "source": [
    "#your code"
   ]
  },
  {
   "cell_type": "markdown",
   "id": "c75a199a-48c7-49bf-9347-86c5e3b1dd3b",
   "metadata": {},
   "source": [
    "Dans la cellule ci-dessous, afficher les contours de l'image *musique.png* \n",
    "\n",
    "![musique](images/musique.png)"
   ]
  },
  {
   "cell_type": "code",
   "execution_count": null,
   "id": "f56a755a-ce49-4ca7-bf9d-2ee1c395ac42",
   "metadata": {},
   "outputs": [],
   "source": [
    "#your code"
   ]
  },
  {
   "cell_type": "markdown",
   "id": "d7f28f2f-64f1-4b04-a181-c2285c1b67b5",
   "metadata": {},
   "source": [
    "Que remarquez-vous pour les contours de ces deux images ? Vous repondrez à cette question dans cette même cellule en faisant un double clic dessus\n",
    "\n",
    "**Votre réponse :** "
   ]
  },
  {
   "cell_type": "markdown",
   "id": "8b86b593-b7b3-4925-be95-7fbe04579334",
   "metadata": {},
   "source": [
    "Pour palier à cet inconvénient nous allons modifier notre fonction de seuillage. Pour décider de la couleur noire ou blanche des pixels nous avions choisi un seuil à 127 qui semblait convenir à notre image de départ. Mais il n'y a aucune raison valable que cette valeur s'applique à toutes images. Écrire une fonction `seuilGlobale(img)` qui prend en paramètres une image et qui renvoie la valeur seuil comme la moyenne des intensités sur tous les pixels. "
   ]
  },
  {
   "cell_type": "code",
   "execution_count": null,
   "id": "b2948fa6-27bd-47e1-94ba-fc3909fb205b",
   "metadata": {},
   "outputs": [],
   "source": [
    "def seuilGlobale(img):\n",
    "    #your code\n",
    "    pass"
   ]
  },
  {
   "cell_type": "markdown",
   "id": "8adbf802-d8f7-4abb-be61-f89783c8746c",
   "metadata": {},
   "source": [
    "Modifier la fonction `seuillage` de la cellule C17 pour qu'elle puisse utiliser la valeur retournée par la fonction `seuilGlobale`"
   ]
  },
  {
   "cell_type": "markdown",
   "id": "dcc0fb5d-22b7-4b61-9a35-144d24187a60",
   "metadata": {},
   "source": [
    "Écrire une suite d'instructions permettant de tester vos modifications sur les images *musique.png* et \"toon.png\""
   ]
  },
  {
   "cell_type": "code",
   "execution_count": null,
   "id": "05ecb296-73cd-4f95-8b8f-392fca867bad",
   "metadata": {},
   "outputs": [],
   "source": [
    "#your code"
   ]
  },
  {
   "cell_type": "code",
   "execution_count": null,
   "id": "facbe2ce-f2db-4afb-b73f-4519fb2bada5",
   "metadata": {},
   "outputs": [],
   "source": [
    "#your code"
   ]
  },
  {
   "cell_type": "code",
   "execution_count": null,
   "id": "4efc08f9-bdb2-48bd-9701-f71e318ee44e",
   "metadata": {},
   "outputs": [],
   "source": [
    "# FIN"
   ]
  }
 ],
 "metadata": {
  "full-user-track-cell": "",
  "full-user-track-date": "",
  "kernelspec": {
   "display_name": "Python 3 (ipykernel)",
   "language": "python",
   "name": "python3"
  },
  "language_info": {
   "codemirror_mode": {
    "name": "ipython",
    "version": 3
   },
   "file_extension": ".py",
   "mimetype": "text/x-python",
   "name": "python",
   "nbconvert_exporter": "python",
   "pygments_lexer": "ipython3",
   "version": "3.11.0"
  },
  "moon-script": "C3 T1 T2 C5 T4 ?C7 T6 [ (C10 T9 T8 C12 T11 C10 T13 C15 T14 C17 T16 C19 T18 ) ( C22 T20 T21 [ C24 T23 C25 T23 ] C28 T26 T27 [ C30 T29 C31 T29 ] C34 T32 T33 C36 T35 ) ] [C40 T38 T39 C42 T41 ] C45 T43 T44 C17 T46 [ C48 T47 C49 T47 ] C50"
 },
 "nbformat": 4,
 "nbformat_minor": 5
}
