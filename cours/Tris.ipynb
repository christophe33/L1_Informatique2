{
 "cells": [
  {
   "cell_type": "markdown",
   "id": "300bb0ab-079c-4067-bad7-11a26712e402",
   "metadata": {},
   "source": [
    "# Tris"
   ]
  },
  {
   "cell_type": "markdown",
   "id": "8b052868-0016-48ab-ad89-82ed43537f31",
   "metadata": {},
   "source": [
    "## Critères d'analyse des algorithmes de tri\n",
    "\n",
    "* Complexité en temps\n",
    "* Complexité en mémoire\n",
    "* Stabilité\n",
    "\n",
    "\n",
    "<div class=\"alert alert-warning\" role=\"alert\"><b>Définition: </b><br>\n",
    "    Un algorithme de tri est dit <b>stable</b> si deux objets avec des clés identiques apparaissent dans le même ordre dans la sortie triée et dans l'entrée à trier.\n",
    "</div>\n",
    "\n",
    "Dans les exemples ci-dessous, expliquer si l'algorithme de tri utilisé peut-être qualifié de stable. Quelle est la clé de tri utilisée ?\n",
    "\n",
    "*Exemple 1 :* \n",
    "\n",
    "Entrée à trier : \n",
    "\n",
    "![](images/tri_stable_entree.png)\n",
    "\n",
    "Sortie triée : \n",
    "\n",
    "![](images/tri_stable_sortie.png)\n",
    "\n",
    "*Exemple 2:* \n",
    "\n",
    "Entrée à trier : Pomme, Citron, Orange, Poire\n",
    "\n",
    "Sortie triée : Citron, Orange, Poire, Pomme\n",
    "\n",
    "Animation pour tester la stabilté de différents tris : http://lwh.free.fr/pages/algo/tri/stabilite_tri.html\n",
    "\n",
    "## Tris internes par comparaison\n",
    "\n",
    "Nous allons étudier trois algorithmes de tri parmi les plus efficaces lorsqu'aucune hypothèse particulière n'est faite sur la nature ou la structure des clés des éléments à trier : \n",
    "* le tri rapide ou tri par segmentation $O(n^2)$ mais avec une complexité en moyenne de $n\\log(n)$\n",
    "* le tri fusion $O(n\\log(n))$\n",
    "* le tri par tas $O(n\\log(n))$\n",
    "\n",
    "Remarque : On parle de tri interne en opposition aux tris externes quand les objets à trier sont placés dans la mémoire de l'ordinateur sur lequel s'effectue le tri. En pratique, cette hypothèse n'est pas toujours réalisable. Dans ce cas le tri exécute des opérations de lecture et d'écriture sur le support de stockage.\n",
    "\n",
    "### Définitions :\n",
    "\n",
    "* Dans un tri par comparaison, on s’autorise uniquement cinq tests sur les données à l’entrée : $=,\\ <,\\ >,\\ \\leqslant,\\ \\geqslant$.\n",
    "* La complexité temporelle des algorithmes peut être calculée en nombre de comparaisons effectuées.\n",
    "\n",
    "\n",
    "\n"
   ]
  },
  {
   "cell_type": "markdown",
   "id": "a4321cbe-79fa-4dac-bc19-31f634a1be0e",
   "metadata": {},
   "source": [
    "## Les tris naïfs\n",
    "\n",
    "Ce sont des algorithmes n'utilisant aucun paradigmes ni aucune structures de données élaborées.\n",
    "\n",
    "* Tri sélection\n",
    "* Tri insertion\n",
    "* Tri bulles\n",
    "\n",
    "$$\\begin{array}{|l|c|c|c|}\\hline\n",
    "\\text{Tris} & \\text{Complexité temps} & \\text{Complexité mémoire} & \\text{Stabilité}\\\\\\hline\n",
    "\\text{Sélection} & \\Theta(n^2)& \\Theta(1)& non\\\\\\hline\n",
    "\\text{Insertion} & \\Omega(n)\\ /\\ O(n^2)& \\Theta(1)& oui\\\\\\hline\n",
    "\\text{À bulles} & \\Theta(n^2)& \\Theta(1)& oui\\\\\\hline\n",
    "\\end{array}$$\n",
    "\n",
    "**Questions :**\n",
    "\n",
    "1. Rappelez brievement le principe de ces tris en présentant pour chacun les étapes pour trier le tableau suivant :\n",
    "$\\begin{array}{|c|c|c|c|}\\hline\n",
    "3 & 2 & 8 & 1 & 7\\\\\\hline\n",
    "\\end{array}$\n",
    "1. Expliquer pourquoi la complexité en temps du tri insertion est différente des deux autres tris.\n",
    "1. À partir d'un exemple, expliquer pourquoi le tri sélection n'est pas un tri stable.\n",
    "\n",
    "Simulateur : https://visualgo.net/en/sorting\n",
    "\n",
    "De nombreux tris nécessitent d'échanger la position de deux éléments à partir de leur clé respective. Écrire une fonction Python permettant d'effectuer cet échange."
   ]
  },
  {
   "cell_type": "code",
   "execution_count": null,
   "id": "add00f27-5377-4eea-be45-b13426141df7",
   "metadata": {},
   "outputs": [],
   "source": [
    "def echanger(tab, i, j):\n",
    "    \"\"\"\n",
    "    i, j --> int : Les indices des éléments dont la position doit être échangée\n",
    "    \"\"\""
   ]
  },
  {
   "cell_type": "markdown",
   "id": "4438856d-081a-43d6-9fb9-694a439796d2",
   "metadata": {},
   "source": [
    "## Diviser pour régner\n",
    "\n",
    "On présente maintenant deux algorithmes de tri basés sur le paradigme diviser pour régner \n",
    "\n",
    "### Tri rapide (Quick sort)\n",
    "Le tri rapide d'un tableau $T$ comprend deux phases : \n",
    "* La première phase transforme le tableau $T$ en un tableau $T' = [G,p,D]$ avec : \n",
    "    * $p$ un élément de $T$ appelé **pivot**\n",
    "    * $G$ la partie gauche du tableau $T'$ dont toutes les valeurs sont inférieures à la valeur de $p$\n",
    "    * $D$ la partie droite du tableau $T'$ dont toutes les valeurs sont supérieures à la valeur de $p$\n",
    "* La seconde phase consiste simplement en deux appels récursifs de l'algorithme, l'un pour le tableau $G$ et l'autre pour le tableau $D$. Un appel récursif de l'algorithme de **tri rapide** est terminal pour $n = 1$ avec $n$ le nombre d'éléments dans le tableau à traiter."
   ]
  },
  {
   "cell_type": "code",
   "execution_count": 1,
   "id": "957eb232-dc52-4d61-8969-4f5e37d6f436",
   "metadata": {},
   "outputs": [],
   "source": [
    "def triRapide(T, i, j):\n",
    "    \n",
    "    if i < j:   \n",
    "        pivot = pivoter2(T, i, j) # p\n",
    "        triRapide(T, i, pivot)   # G\n",
    "        triRapide(T, pivot+1, j) # D"
   ]
  },
  {
   "cell_type": "markdown",
   "id": "d7f46055-9e3f-4b31-a667-5cdf1256b910",
   "metadata": {},
   "source": [
    "#### Comment construire $T'$ ?\n",
    "\n",
    "L'efficacité du tri rapide dépend directement de l'algorithme qui permet de construire à partir de la tableau $T$ le tableau $T'$. Ce dernier doit déterminer le pivot $p$ et réorganiser le tableau $T$ pour obtenir $T'$.\n",
    "\n",
    "Le choix du pivot n'est pas anodin, pour s'en convaincre on pourra lire la doc Python : https://github.com/python/cpython/blob/main/Objects/listsort.txt\n",
    "\n",
    "Pour simplifier les choses nous choisirons systématiquement le premier élément du tableau comme pivot, c'est à dire $T[i]$. L'algorithme consiste ensuite à déplacer tous les éléments de $T[i+1, j]$ inférieurs à $p$ sur la partie gauche du tableau $T$ en effectuant des échanges. "
   ]
  },
  {
   "cell_type": "code",
   "execution_count": 2,
   "id": "cdbb9e35-cd1c-46d9-9a8b-aa24f6c3941d",
   "metadata": {},
   "outputs": [],
   "source": [
    "def echanger(t, i, j):\n",
    "    tmp = t[i]\n",
    "    t[i] = t[j]\n",
    "    t[j] = tmp\n",
    "    \n",
    "def pivoter1(T, i, j):  \n",
    "    p = i\n",
    "    pivot = T[i]\n",
    "    g, d = i+1, j+1\n",
    "    for k in range(g, d):\n",
    "        if T[k] <= pivot:\n",
    "            p += 1\n",
    "            echanger(T, p, k)\n",
    "    echanger(T, i, p)\n",
    "    return p"
   ]
  },
  {
   "cell_type": "markdown",
   "id": "f5dd52de-0a1a-4147-b49a-9b1c64a37b31",
   "metadata": {},
   "source": [
    "**Questions :** \n",
    "1. Détailler l'exécution de la fonction ```pivoter``` pour le tableau suivant :\n",
    "$\\begin{array}{|c|c|c|c|c|c|}\\hline\n",
    "3 & 1 & 2 & 7 & 8 & 2\\\\\\hline\n",
    "\\end{array}$\n",
    "1. Que renvoie la fonction ```pivoter``` si toutes les valeurs du tableau sont les mêmes ?"
   ]
  },
  {
   "cell_type": "code",
   "execution_count": 3,
   "id": "2c85e138-f515-4130-9d9d-4dbcc5cf7559",
   "metadata": {},
   "outputs": [],
   "source": [
    "def pivoter2(t, i, j):\n",
    "    g, d = i, j\n",
    "    pivot = t[i]\n",
    "    while g < d:\n",
    "        while t[d] >= pivot and d > i:\n",
    "            d = d-1\n",
    "        while t[g] < pivot:\n",
    "            g = g+1\n",
    "        if g < d:\n",
    "            echanger(t,g,d)\n",
    "    return d"
   ]
  },
  {
   "cell_type": "markdown",
   "id": "6de63383-82f1-4c73-9ddf-145daaf8d537",
   "metadata": {},
   "source": [
    "1. Détailler l'exécution de la fonction ```pivoter``` pour le tableau suivant :\n",
    "$\\begin{array}{|c|c|c|c|c|c|}\\hline\n",
    "3 & 1 & 2 & 7 & 8 & 2\\\\\\hline\n",
    "\\end{array}$\n",
    "1. De même avec :\n",
    "$\\begin{array}{|c|c|c|c|c|c|}\\hline\n",
    "12 & 1 & 2 & 7 & 8 & 2\\\\\\hline\n",
    "\\end{array}$\n",
    "1. Que renvoie la fonction ```pivoter``` si toutes les valeurs du tableau sont les mêmes ?\n",
    "1. Tracer l'arbre des appels de la fonction ```triRapide``` pour ce même tableau avec les couples $(i, j)$ comme sommets.\n",
    "1. Tracer l'arbre des appels de la fonction ```triRapide``` pour un tableau trié comportant 6 éléments."
   ]
  },
  {
   "cell_type": "code",
   "execution_count": 9,
   "id": "d67bc315-4932-48a5-bead-16d3ae0528e0",
   "metadata": {},
   "outputs": [],
   "source": [
    "from random import randint as rd\n",
    "for i in range(1000):\n",
    "    t = [rd(0, 100) for i in range(10)]\n",
    "    triRapide(t, 0, len(t)-1)"
   ]
  },
  {
   "cell_type": "markdown",
   "id": "425f8f3c-5241-4d2b-ba41-c9ed04d3bdca",
   "metadata": {},
   "source": [
    "#### Complexité\n",
    "\n",
    "La complexité de la fonction ```pivoter``` sur un tableau de taille $n$ est $\\Theta(n)$. En effet, l'indice $k$ (qui au départ vaut $i+1$) est incrémenté jusqu'à ce que $k = j$, la position du pivot est mise à jour si $T[k] \\leqslant \\text{pivot}$ pour déplacer les éléments inférieurs au pivot à gauche de celui-ci. \n",
    "\n",
    "Regardons à présent le tri. La fonction ```triRapide``` contient deux appels récursifs, le premier traite la partie gauche $G$ du tableau $T'$ et le second la partie droite $D$ du tableau $T'$ qui ont respectivement un coût $C(p)$ et $C(n-p)$. D'autre part, nous venons de voir que la fonction ```pivoter``` avait un coût $\\Theta(n)$. L'expression récurrente de la complexité du tri rapide est donc :\n",
    "\n",
    "$$C(n) = C(p) + C(n-p) + \\Theta(n)$$\n",
    "\n",
    "* Si $p = 1$ (tableau trié), c'est à dire le cas ou la fonction ```pivoter``` sépare le tableau en deux parties complètement déséquilibrées, l'un des sous tableau ne contient qu'un unique élément, la relation de récurrence devient : \n",
    "\n",
    "$$\\begin{array}{lr}C(n) = C(1) + C(n-1) + \\Theta(n) &\\text{avec}\\quad C(1)=\\Theta(1)\\\\\n",
    "C(n) = C(n-1) + \\Theta(n) &\\\\\n",
    "\\end{array}$$\n",
    "\n",
    "et la solution est donnée par : \n",
    "\n",
    "$$C(n) = \\Theta(n^2)$$\n",
    "\n",
    "<div class=\"alert alert-block alert-info\"><b>Propriété 1:</b><br> La complexité dans le cas le plus défavorable de l'algorithme du tri rapide pour trier un tableau de taille $n$ est $C(n)=\\Theta(n^2)$.</div>\n",
    "\n",
    "On peut également raisonner à partir de l'arbre des appels qui est un arbre en peigne avec $n$ sommets. Le nombre de comparaisons est $n$ pour le niveau $0$, $n-1$ pour le niveau 1, $n-i$ pour le niveau $i$ et $0$ pour le dernier niveau soit en tout $C(n) = \\dfrac{n(n+1)}{2} - 1 = \\Theta(n^2)$ comparaisons. \n",
    "* Si $p = \\left\\lfloor\\dfrac{n}{2}\\right\\rfloor$, la solution est donnée par le **Master Theorem** (https://fr.wikipedia.org/wiki/Master_theorem)\n",
    "$$C(n) = O(n\\log(n))$$\n",
    "\n",
    "<div class=\"alert alert-block alert-info\"><b>Propriété 2: </b><br>\n",
    "La complexité en moyenne de l'algorithme du tri rapide pour trier un tableau de taille $n$ est $C(n)=O(n\\log(n))$.\n",
    "</div>"
   ]
  },
  {
   "cell_type": "markdown",
   "id": "299dced0-13d1-4cc6-a3ea-f2de24517d7d",
   "metadata": {},
   "source": [
    "### Tri fusion (Merge sort)\n",
    "\n",
    "Le tri fusion d'un tableau $T$ comprend deux phases :\n",
    "\n",
    "* La première phase consiste en deux appels récursifs de l'algorithme pour diviser le tableau $T$ de taille $n$ en deux sous tableaux, l'un de taille $\\left\\lfloor\\dfrac{n}{2}\\right\\rfloor$ et l'autre de taille $\\left\\lfloor\\dfrac{n+1}{2}\\right\\rfloor$. L' appel récursif de l'algorithme de **tri fusion** est terminal pour $n = 1$. On obtient alors des sous tableaux qui ne contiennent plus qu'une unique valeur et donc trié...\n",
    "* La seconde phase consiste à fusionner les sous tableaux triés."
   ]
  },
  {
   "cell_type": "code",
   "execution_count": null,
   "id": "27dabba2-f2bf-4d2b-8cf7-42f29bcd47df",
   "metadata": {},
   "outputs": [],
   "source": [
    "def triFusion(t: array, g: int, d: int):\n",
    "    \"\"\"\n",
    "    t: array --> tableau à trier\n",
    "    g: int   --> indice de départ\n",
    "    d: int   --> indice fin + 1\n",
    "    \"\"\"\n",
    "    if g < d - 1:\n",
    "        m = (g + d)//2\n",
    "        triFusion(t, g, m)\n",
    "        triFusion(t, m, d)\n",
    "        fusionner(t, g, d)"
   ]
  },
  {
   "cell_type": "code",
   "execution_count": null,
   "id": "436c12a2-741a-4744-a6df-628b9cb8baa9",
   "metadata": {},
   "outputs": [],
   "source": [
    "def fusionner (t, g, d):\n",
    "    \"\"\"\n",
    "    fusionne deux parties triées d'un même tableau\n",
    "    \"\"\"\n",
    "    #Your code"
   ]
  },
  {
   "cell_type": "markdown",
   "id": "3d03aca4-f6f8-407c-956e-76ad8f3adfec",
   "metadata": {},
   "source": [
    "**Questions :** \n",
    "1. Détailler l'exécution de l'appel suivant : ```fusionner([1,2,3,2,7,8], 0, 6)```\n",
    "\n",
    "1. Indiquez l'ordre des appels de la fonction ```triFusion``` dans l'arbre suivant si $m = (n-1)\\ //\\ 2$\n"
   ]
  },
  {
   "cell_type": "markdown",
   "id": "cb1f6731-b374-42bc-9b8d-a43910f132f5",
   "metadata": {},
   "source": [
    "![](images/appels_tri_fusion.png)"
   ]
  },
  {
   "cell_type": "markdown",
   "id": "db3fdf1a-2f6a-4734-94cd-2651f1114960",
   "metadata": {},
   "source": [
    "#### Complexité\n",
    "\n",
    "La complexité de la fonction ```fusion``` sur un tableau de taille $n$ est $\\Theta(n)$. \n",
    "\n",
    "La fonction ```triFusion``` contient deux appels récursifs, le premier traite la partie gauche $G$ du tableau $T'$  de taille $\\left\\lfloor\\dfrac{n}{2}\\right\\rfloor$ et le second la partie droite $D$ du tableau $T'$ de taille $\\left\\lfloor\\dfrac{n+1}{2}\\right\\rfloor$. Quand $n$ est suffisament grand le coût de chaque appel est en $C(\\frac{n}{2})$ D'autre part, nous venons de voir que la fonction ```fusion``` avait un coût $\\Theta(n)$. L'expression récurrente de la complexité du tri rapide est donc :\n",
    "\n",
    "$$C(n) = 2C(\\frac{n}{2})+ \\Theta(n)$$\n",
    "\n",
    "<div class=\"alert alert-block alert-info\"><b>Propriété 3: </b><br>\n",
    "La complexité de l'algorithme du tri fusion pour trier un tableau de taille $n$ est $C(n)=\\Theta(n\\log(n))$.\n",
    "</div>"
   ]
  },
  {
   "cell_type": "markdown",
   "id": "ad3c2c43-655b-48ef-87dd-b9b1f1f9acbe",
   "metadata": {},
   "source": [
    "## Structure de données\n",
    "\n",
    "### Tri par tas\n",
    "\n",
    "#### Notion de tas\n",
    "\n",
    "<div class=\"alert alert-warning\" role=\"alert\"><b>Définition: </b><br>\n",
    "    Un <b>tas</b> est un arbre binaire quasi parfait dont les sommets contiennent les éléments d'un ensemble $\\mathbb{E}$ muni d'une clé $c : \\mathbb{E} \\rightarrow \\mathbb{F}$ où $\\mathbb{F}$ est totalement ordonné. \n",
    "</div>\n",
    "\n",
    "<div class=\"alert alert-warning\" role=\"alert\"><b>Définition: </b><br>\n",
    "    Un <b>arbre binaire quasi parfait</b> est un arbre binaire dont toutes les feuilles sont situées sur deux niveaux au plus. L'avant dernier niveau est complet et les feuilles du dernier niveau sont regroupées le plus à gauche possible. \n",
    "</div>\n",
    "\n",
    "Les arbres binaires parfaits sont intéressants car ils peuvent être simplement et naturellement stockés sous forme de tableaux : \n",
    "* L'index $1$ est affecté à la racine\n",
    "* Pour chaque noeud d'index $i$ on affecte le fils : \n",
    "    * gauche à l'index $2i$\n",
    "    * droit à l'index $2i + 1$\n",
    "On peut ainsi affecter un entier positif unique à chaque noeud.\n",
    "\n",
    "**Remarque:** La première case du tableau d'index $0$ est **vide**\n",
    "\n",
    "![](images/arbre_binaire_parfait.png)\n",
    "\n",
    "\\begin{array}{|c|c|c|c|c|c|c|c|c|c|c|}\\hline\n",
    " \\phantom{0}& 1 & 3 & 2 & 5 & 6 & 4 & 10 & 8 & 7 & 9\\\\\\hline\n",
    "\\end{array}"
   ]
  },
  {
   "cell_type": "markdown",
   "id": "cc2b9fda-d423-4d87-abd7-acbc43cb1477",
   "metadata": {},
   "source": [
    "**Question:** Écrire les fonctions Python **pere(i), filsDroit(i)** et **filsGauche(i)** qui renvoie les indices des noeuds correspondants sans la case vide au début du tableau"
   ]
  },
  {
   "cell_type": "code",
   "execution_count": null,
   "id": "993e1fed-86cb-40da-9fe1-88db417713c7",
   "metadata": {},
   "outputs": [],
   "source": [
    "def pere(i):\n",
    "    return (i-1)//2\n",
    "\n",
    "def filsDroit(i):\n",
    "    return 2*i + 2\n",
    "\n",
    "def filsGauche(i):\n",
    "    return 2*i + 1"
   ]
  },
  {
   "cell_type": "code",
   "execution_count": null,
   "id": "b132ee6f-5808-455d-a7e0-9980431f6f3b",
   "metadata": {},
   "outputs": [],
   "source": [
    "t = [1, 3, 2, 5, 6, 4, 10, 8, 7, 9]\n",
    "print(f\"Pere du noeud 9 : {t[pere(9)]}\")\n",
    "print(f\"Fils droit du noeud 3 : {t[filsDroit(1)]}\")\n",
    "print(f\"Fils gauche du noeud 2 : {t[filsGauche(2)]}\")"
   ]
  },
  {
   "cell_type": "markdown",
   "id": "7280c187-6f11-4154-bf1c-2ad19330c2a0",
   "metadata": {},
   "source": [
    "Les **complexités en temps et en espace** sont en $\\Theta(1)$ \n",
    "\n",
    "### Construction d’un tas à partir d’un tableau.\n",
    "\n",
    "<div class=\"alert alert-warning\" role=\"alert\"><b>Définition: </b><br>\n",
    "    Un tas est un tableau d’entiers tel que pour tous les indices <b>i</b> strictement positifs, la valeur de <b>T[i]</b> est inférieure ou égale à celle de <b>T[pere(i)]</b>\n",
    "</div> "
   ]
  },
  {
   "cell_type": "markdown",
   "id": "f25dd66a-cf65-4a21-a8a1-0aa2a76224d2",
   "metadata": {},
   "source": [
    "Le but de cette partie est d’effectuer la transformation représentée par les tableaux ci-dessous:\n",
    "\n",
    "\\begin{array}{|c|c|c|c|c|c|c|c|}\\hline\n",
    " 5 & 2 & 6 & 0 & 1 & 9 & 1 & 5 \\\\\\hline\n",
    "\\end{array} en  \\begin{array}{|c|c|c|c|c|c|c|c|}\\hline\n",
    " 9 & 5 & 6 & 2 & 1 & 5 & 1 & 0 \\\\\\hline\n",
    "\\end{array} \n",
    "\n",
    "**Question :** Écrire une fonction **estUnTas(t, n)** qui retourne **True** si le tableau T est un tas, **False** sinon."
   ]
  },
  {
   "cell_type": "code",
   "execution_count": null,
   "id": "0d398151-1d83-4e90-8a32-5ef67b359375",
   "metadata": {},
   "outputs": [],
   "source": [
    "def estUnTas(t, n):\n",
    "    for i in range(1, n):\n",
    "        if t[i] > t[pere(i)]:\n",
    "            return False\n",
    "    return True"
   ]
  },
  {
   "cell_type": "code",
   "execution_count": null,
   "id": "9fb64ace-04f8-4bef-a7b0-be59cfca0907",
   "metadata": {},
   "outputs": [],
   "source": [
    "t = [5, 2, 6, 0, 1, 9, 1, 5]\n",
    "print(estUnTas(t, len(t)))\n",
    "t = [9, 5, 6, 2, 1, 5, 1, 0]\n",
    "print(estUnTas(t, len(t)))"
   ]
  },
  {
   "cell_type": "markdown",
   "id": "6a7ad415-7de4-480d-a2bd-f732df8ff3e0",
   "metadata": {},
   "source": [
    "La complexité en temps est en $O(n)$ avec n = longueur(T), et celle en espace est en $\\Theta(1)$.\n",
    "\n",
    "**Question:** Écrire une fonction **maximum(T, i, limite)** qui retourne l'indice (inférieur à limite) de la plus grande des trois valeurs **T[i], T[filsGauche(i)]** et **T[filsDroit(i)]**. En cas de valeurs égales, le plus petit indice est retourné. Par exemple sur le tableau précédent maximum(T, 0, 8) = 2, maximum(T, 2, 8) = 5, maximum(T, 3, 8) = 7 et maximum(T, 3, 7) = 3."
   ]
  },
  {
   "cell_type": "code",
   "execution_count": null,
   "id": "abb99ee6-85b2-4bf7-894e-73bb5943c3c6",
   "metadata": {},
   "outputs": [],
   "source": [
    "def maximum(t, i, limite):\n",
    "    imax = i\n",
    "    g, d = filsGauche(i), filsDroit(i)\n",
    "    if g < limite and t[g] > t[imax]:\n",
    "        imax = g\n",
    "    if d < limite and t[d] > t[imax]:\n",
    "        imax = d\n",
    "    return imax"
   ]
  },
  {
   "cell_type": "code",
   "execution_count": null,
   "id": "e7edac8b-138c-4108-a2b0-49a7c24a47e0",
   "metadata": {},
   "outputs": [],
   "source": [
    "t = [5, 2, 6, 0, 1, 9, 1, 5]\n",
    "print(f\"maximum(t, 0, 8) = {maximum(t, 0, 8)}\")\n",
    "print(f\"maximum(t, 2, 8) = {maximum(t, 2, 8)}\")\n",
    "print(f\"maximum(t, 3, 8) = {maximum(t, 3, 8)}\")\n",
    "print(f\"maximum(t, 3, 7) = {maximum(t, 3, 7)}\")"
   ]
  },
  {
   "cell_type": "markdown",
   "id": "843769c1-a10c-436e-bb62-96cfc2a0464f",
   "metadata": {},
   "source": [
    "**Question:** Avec la fonction récursive suivante, dessiner l'arbre des appels après l’appel **entasserRecursif(T, 0, 8)**"
   ]
  },
  {
   "cell_type": "code",
   "execution_count": null,
   "id": "d6e0ad61-5586-47ef-97ea-754f9082894b",
   "metadata": {},
   "outputs": [],
   "source": [
    "def entasserRecursif(t, i, limite):\n",
    "    imax = maximum(t, i, limite)\n",
    "    if imax != i:\n",
    "        echanger(t, i, imax)\n",
    "        entasserRecursif(t, imax, limite)\n",
    "        \n",
    "def echanger(t, i, j):\n",
    "    t[i], t[j] = t[j], t[i]"
   ]
  },
  {
   "cell_type": "code",
   "execution_count": null,
   "id": "a4f3fcf1-43bf-4ff4-ab9d-4db427ac6662",
   "metadata": {},
   "outputs": [],
   "source": [
    "t = [5, 5, 9, 2, 1, 6, 1, 0]\n",
    "entasserRecursif(t, 0, 8)\n",
    "print(t)"
   ]
  },
  {
   "cell_type": "markdown",
   "id": "e702c621-47a6-43eb-a901-b3060feae50d",
   "metadata": {},
   "source": [
    "**Question** La fonction **entasserRecursif(T, i, limite)** est récursive terminale. Ecrire une fonction itérative **entasser(T, i, limite)**  ́equivalente."
   ]
  },
  {
   "cell_type": "code",
   "execution_count": null,
   "id": "9b58cb3c-bb5e-4887-b389-90a16d9fa33b",
   "metadata": {},
   "outputs": [],
   "source": [
    "def entasser(t, i, limite):\n",
    "    imax = maximum(t, i, limite)\n",
    "    while imax != i:\n",
    "        echanger(t, i, imax)\n",
    "        i = imax\n",
    "        imax = maximum(t, i, limite)"
   ]
  },
  {
   "cell_type": "markdown",
   "id": "d4d1f33a-1e73-402d-a8e2-895b18640bea",
   "metadata": {},
   "source": [
    "L’algorithme **entasser(T, i, limite)** échange des valeurs du tableau de haut en bas, en suivant une branche de l’arborescence. Cela a pour effet de faire descendre des petites valeurs, et de faire monter les grandes valeurs. Il est donc possible de construire un tas, en itérant cet algorithme sur les indices décroissants du tableau."
   ]
  },
  {
   "cell_type": "code",
   "execution_count": null,
   "id": "1f4b56a9-2042-470a-8b80-63c549cf503f",
   "metadata": {},
   "outputs": [],
   "source": [
    "def construireTas(t, n):\n",
    "    for i in range((n-1)//2, -1, -1):\n",
    "        entasser(t, i, n)"
   ]
  },
  {
   "cell_type": "code",
   "execution_count": null,
   "id": "35dabffa-4c05-4d1f-8afe-bec4c0181313",
   "metadata": {},
   "outputs": [],
   "source": [
    "t = [5, 2, 6, 0, 1, 9, 1, 5]\n",
    "print(estUnTas(t, len(t)))\n",
    "construireTas(t, len(t))\n",
    "print(estUnTas(t, len(t)))\n",
    "print(t)"
   ]
  },
  {
   "cell_type": "markdown",
   "id": "a44a11c9-e9ab-49f3-b745-29fe338a7568",
   "metadata": {},
   "source": [
    "Si l’on utilise l’algorithme itératif pour entasser, les complexités sont :\n",
    "* en temps en $\\Omega(n)$ si T est déjà un tas, $O(nlog_2(n))$ avec n = longueur(T),\n",
    "* en espace en $\\Theta(1)$.\n",
    "\n",
    "## Trier avec un tas\n",
    "\n",
    "Dans un tas, la valeur maximale est à la racine de l’arborescence, donc en $T[0]$. Dans le tableau trié, cette valeur doit être en **T[len(T)-1]**. Il suffit donc d’echanger ces deux valeurs pour progresser vers la solution. Une fois cette  ́echange fait, si l’on exclut la dernière valeur du tableau, le tas est peu changé. En fait **entasser(T,0,len(T)-1)** va créer un nouveau tas pour les valeurs du tableau dont les indices sont inf ́erieurs à **limite = len(T)-1**. Il suffit donc d’itérer ces deux  ́etapes:\n",
    "* echanger,\n",
    "* entasser \n",
    "\n",
    "pour trier un tas."
   ]
  },
  {
   "cell_type": "markdown",
   "id": "e0e75bfe-1dae-4c36-91dd-16be6dfbd161",
   "metadata": {},
   "source": [
    "**Question:** Écrire une fonction **trierParTas(t, n)** qui transforme un tableau en tas puis en un tableau trié par ordre croissant."
   ]
  },
  {
   "cell_type": "code",
   "execution_count": null,
   "id": "35825091-d2a1-47da-a3f4-30cc5c755de9",
   "metadata": {},
   "outputs": [],
   "source": [
    "def trierTas(t, n):\n",
    "    construireTas(t, n)\n",
    "    for i in range(n-1, 0, -1):\n",
    "        echanger(t, 0, i)\n",
    "        entasser(t, 0, i)"
   ]
  },
  {
   "cell_type": "code",
   "execution_count": null,
   "id": "f66e92df-6867-47f5-bdb1-fee962288feb",
   "metadata": {},
   "outputs": [],
   "source": [
    "t = [5, 2, 6, 0, 1, 9, 1, 5]\n",
    "trierTas(t, len(t))\n",
    "print(t)"
   ]
  },
  {
   "cell_type": "markdown",
   "id": "7323caf9-de93-4189-ab4e-be8e0898d8e3",
   "metadata": {},
   "source": [
    "Si l’on utilise l’algorithme itératif pour entasser, les complexités sont :\n",
    "* en temps en $\\Omega(n)$ si toutes les valeurs de T sont égales, $O(n\\log_2(n))$ avec n = longueur(T),\n",
    "* en espace en $\\Theta(1)$"
   ]
  },
  {
   "cell_type": "markdown",
   "id": "da67acd0-234c-4086-9b59-2db4a3e01d80",
   "metadata": {},
   "source": [
    "#### Inserer un élément dans un tas\n",
    "Pour **l'insertion** d'une clé $x$ : \n",
    "* Créer une feuille contenant cet élément à coté de la feuille la plus à droite du niveau le plus bas\n",
    "* La définition du tas est ensuite restaurée en faisant remonter l'élément dans l'arbre tant que la relation d'ordre n'est respectée de la manière suivante\n",
    "    * Comparer le contenu de l'élément à celui de son père\n",
    "    * Effectuer un échange qui respecte la relation d'ordre du tas\n",
    "\n",
    "Par exemple la clé $75$ serait insérée de la manière suivante dans le tas\n",
    "\n",
    "![](images/insertion_tas.png)\n",
    "\n",
    "#### Supprimer un élément dans un tas\n",
    "\n",
    "La suppression de la plus petite / grande clé (suivant la relation d'ordre établie au départ) dans un tas est relativement simple également.\n",
    "* Remplacer le contenu de la racine par le contenu $x$ de la feuille la plus à droite du niveau le plus bas\n",
    "* Supprimer cette feuille\n",
    "* La définition du tas est ensuite restaurée en faisant descendre le contenu $x$ de la nouvelle racine dans l'arbre tant que la relation d'ordre n'est respectée de la manière suivante\n",
    "    * Comparer $x$ avec le contenu des fils \n",
    "    * Effectuer un échange qui respecte la relation d'ordre du tas.\n",
    "\n",
    "![](images/suppression_min_max_tas.png)\n",
    "\n",
    "<div class=\"alert alert-block alert-info\"><b>Propriété 4: </b><br>\n",
    "La hauteur d'un tas est logarithmique en fonction du nombre de ses sommets, donc l'insertion ou la suppression sont des algorithmes de complexité temporelle logarithmique, sous réserve que les opérations élémentaires s'implémentent en temps constant.\n",
    "</div>\n",
    "\n",
    "**Remarque :** Pour la suppression, la recherche d'un élément quelconque dans un tas à une complexité temporelle $O(n)$ où $n$ est le nombre d'éléments dans le tas. En effet, la racine d'un sous-arbre d'un tas ne donne aucune indication concernant le sous-arbre dans lequel se trouve l'élément recherché."
   ]
  }
 ],
 "metadata": {
  "kernelspec": {
   "display_name": "Python 3 (ipykernel)",
   "language": "python",
   "name": "python3"
  },
  "language_info": {
   "codemirror_mode": {
    "name": "ipython",
    "version": 3
   },
   "file_extension": ".py",
   "mimetype": "text/x-python",
   "name": "python",
   "nbconvert_exporter": "python",
   "pygments_lexer": "ipython3",
   "version": "3.9.7"
  }
 },
 "nbformat": 4,
 "nbformat_minor": 5
}
