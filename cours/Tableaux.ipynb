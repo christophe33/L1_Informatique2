{
 "cells": [
  {
   "cell_type": "markdown",
   "id": "19471d66-0620-41e3-94e4-26819b6e51da",
   "metadata": {},
   "source": [
    "# Tableau : structure de données séquentielle\n",
    "<script type=\"text/javascript\" charset=\"utf-8\" src=\"\n",
    "https://cdn.mathjax.org/mathjax/latest/MathJax.js?config=TeX-AMS-MML_HTMLorMML,\n",
    "https://vincenttam.github.io/javascripts/MathJaxLocal.js\"></script>"
   ]
  },
  {
   "cell_type": "markdown",
   "id": "b89bb4ca-9b4b-4ab4-971c-8c495dc57d5d",
   "metadata": {},
   "source": [
    "<div class=\"alert alert-warning\" role=\"alert\"><b>Définition: </b><br>\n",
    "Un tableau à une dimension est une structure de données qui permet de stocker un certain nombre d’éléments repérés par un indice encore appelé clé (index). Les tableaux vérifient généralement les propriétés suivantes :\n",
    "    <ul>\n",
    "        <li> Tous les éléments ont le même type de base.</li>\n",
    "        <li> le nombre maximum d’éléments que l'on peut stocker est fixé.</li> \n",
    "        <li> La **taille** d’un tableau est le nombre de cases mémoire qui le composent.</li>\n",
    "        <li>L’accès et la modification d'un l’élément d'index donné est en temps constant (noté $\\Theta(1))$, indépendamment de l'indice et de la taille du tableau.</li>\n",
    "    </ul>\n",
    "    </div>"
   ]
  },
  {
   "cell_type": "markdown",
   "id": "dd56c1d4-d72d-40ce-9868-510f51a2cf34",
   "metadata": {},
   "source": [
    "## Déclaration d'un tableau\n",
    "\n",
    "La déclaration d'un tableau comprend deux informations : \n",
    "* le nombre maximum d'éléments\n",
    "* le type de valeurs prises par ses éléments \n",
    "\n",
    "### De taille fixe\n",
    "\n",
    "* Java : ```int[] tableau``` Définit un tableau d'entiers non encore initialisé. Nombre d'éléments pas encore connu.\n",
    "* C : ```int tableau[10]``` Définit un tableau prêt à recevoir 10 valeurs entières.\n",
    "* Python : ```tableau = zeros(10)``` Définit un tableau contenant 10 zéros avec le package ```numpy```.\n",
    "\n",
    "### De taille variable\n",
    "\n",
    "Pour simuler un tableau de taille variable, on peut:\n",
    "    \n",
    "* réserver une quantité de mémoire strictement supérieure à celle nécéssaire pour les éléments de départ,\n",
    "* et ranger les éléments au début du tableau.\n",
    "\n",
    "**Attention** la bibliothèque principale de Python fournit des objets de type: \n",
    "* ```list```, équivalent Python d'un tableau, mais cet objet est redimensionnable et peut contenir des éléments de différents types.\n",
    "* ```array``` très similaire aux objets de type *list* mais ne peut contenir des éléments que d'un seul type définit au moment de la déclaration : https://docs.python.org/fr/3/library/array.html"
   ]
  },
  {
   "cell_type": "markdown",
   "id": "8874c99a-1195-4f34-b04e-202c0c875f59",
   "metadata": {},
   "source": [
    "## Tableau en mémoire\n",
    "\n",
    "Les tableaux forment une suite de variables de même type associées à des emplacements consécutifs de la mémoire. Puisque tous les emplacements sont de même type, ils occupent tous la même taille mémoire $d$. Connaissant l’adresse $a$ de la première case du tableau, on accède en coût constant à l’adresse de la case d’indice $k$ en calculant $a + kd$."
   ]
  },
  {
   "cell_type": "code",
   "execution_count": 1,
   "id": "cdefee78-6f51-4c8b-9793-e9c778fdfa71",
   "metadata": {},
   "outputs": [
    {
     "name": "stdout",
     "output_type": "stream",
     "text": [
      "item_size = 4 octets\n",
      "memory_size = 40 octets\n"
     ]
    }
   ],
   "source": [
    "from array import *\n",
    "l = array('i', [0]*10)\n",
    "print(f'item_size = {l.itemsize} octets') #La longueur en octets d'un élément du tableau dans la représentation interne.\n",
    "print(f'memory_size = {l.buffer_info()[1]*l.itemsize} octets')"
   ]
  },
  {
   "cell_type": "markdown",
   "id": "7cab988b-d160-4ec7-893c-097b45b93ed1",
   "metadata": {},
   "source": [
    "### Problème de la taille maximum\n",
    "\n",
    "On essaye d’insérer un élément dans un tableau qui ne contient plus de place disponible.\n",
    "\n",
    "Comportements possibles :\n",
    "* Erreur (arrêt du programme, exception)\n",
    "* Allocation d'un nouveau bloc mémoire, puis recopie des éléments de l'ancien tableau dans le nouveau.\n",
    "\n",
    "Extrait des sources du langage Python, fichier listobject.c, lignes 61-70: https://github.com/python/cpython/blob/main/Objects/listobject.c\n",
    "\n",
    "``` \n",
    "    /*This over-allocates proportional to the list size, making room\n",
    "     * for additional growth.  The over-allocation is mild, but is\n",
    "     * enough to give linear-time amortized behavior over a long\n",
    "     * sequence of appends() in the presence of a poorly-performing\n",
    "     * system realloc().\n",
    "     * Add padding to make the allocated size multiple of 4.\n",
    "     * The growth pattern is:  0, 4, 8, 16, 24, 32, 40, 52, 64, 76, ...\n",
    "     * ...\n",
    "     */\n",
    "```\n",
    "\n",
    "Pour les objets Python de type ```list``` l'algorithme permettant d'étendre la taille travaille en **temps constant amortis**. C’est une situation très classique : dans de nombreux problèmes, il est possible d’aller plus vite en utilisant plus de mémoire"
   ]
  },
  {
   "cell_type": "markdown",
   "id": "60afdfac-b2c4-47df-8777-30cfeab33e6c",
   "metadata": {},
   "source": [
    "## Opérations sur les tableaux\n",
    "\n",
    "Soient $N\\in\\mathbb{N}$ le nombre d'éléments dans le tableau et $i\\in\\mathbb{N}$ l'indice de position d'un élément dans le tableau\n",
    "\n",
    "### Opérations élémentaires\n",
    "\n",
    "* Initialiser un tableau $\\Theta(N)$\n",
    "* accéder au premier élément $\\Theta(1)$\n",
    "* accéder à un élément d'indice i $\\Theta(1)$\n",
    "* accéder au dernier élément $\\Theta(1)$\n",
    "* Afficher les éléments d’un tableau $\\Theta(N)$\n",
    "* Rechercher si une valeur est dans un tableau ($O(N)$ au pire, $O(1)$ au mieux)\n",
    "* Échanger le contenu de 2 cases du tableau $\\Theta(1)$\n",
    "* Insérer/supprimer un nouvel élément dans un tableau $\\Theta(N-i)$ (insister sur la complexité de l'insertion suivant la place de l'élément à insérer)\n",
    "* Pour tous les éléments du tableau faire...\n",
    "* Existe-t-il un élément du tableau qui...?\n",
    "\n",
    "### Trier un tableau\n",
    "\n",
    "Ce sont des algorithmes n'utilisant aucun paradigme ni aucune structure de données élaborée.\n",
    "\n",
    "* Tri sélection\n",
    "* Tri insertion\n",
    "* Tri bulles\n"
   ]
  },
  {
   "cell_type": "markdown",
   "id": "1d50de4c-44f9-4582-ba61-3aa2d8909184",
   "metadata": {},
   "source": [
    "## Les tableaux avec Python\n",
    "\n",
    "Plusieurs possibilités:\n",
    "* dans les types natifs\n",
    "    * les objets de type ```list```,\n",
    "    * les objets de type ```array```,\n",
    "* package ```numpy```\n",
    "    * les objets de type ```ndarray```."
   ]
  },
  {
   "cell_type": "markdown",
   "id": "64bbbb52-2f85-4512-9355-09bbfab4fa92",
   "metadata": {},
   "source": [
    "Dans ce cours d'algorithmique nous utiliserons les objets de type `array` comme `tableau` mais nous limiterons les possibilités offertes par Python sur cet objet pour se rapprocher le plus possible des types tableaux disponibles dans d'autres langages de programmation. L'aspect uniquement déclaratif d'une variable n'existe pas en Python, il faut l'associer à son initialisation."
   ]
  },
  {
   "cell_type": "markdown",
   "id": "4f08422a-b641-49ee-850f-d202e4a35aab",
   "metadata": {},
   "source": [
    "**Remarque :** Attention ce cours est un **cours d'algorithmique** et ne vise pas à être un cours de programmation en Python ; il n'aborde pas les spécificités de ce langage, et les notions présentées s'efforcent de rester valables dans la majorité des autres langages de programmation."
   ]
  },
  {
   "cell_type": "markdown",
   "id": "65ced5ca-d1be-4c1f-8b76-e632c295ab9b",
   "metadata": {},
   "source": [
    "### Initialiser un tableau avec array\n",
    "\n",
    "La doc officielle : https://docs.python.org/fr/3/library/array.html\n",
    "    \n",
    "Ces tableaux ont la particularité de posséder un type:"
   ]
  },
  {
   "cell_type": "code",
   "execution_count": 2,
   "id": "bc99e305-be50-4e07-9ad1-30528a0ff8ca",
   "metadata": {},
   "outputs": [
    {
     "name": "stdout",
     "output_type": "stream",
     "text": [
      "<class 'array.array'>\n",
      "l\n",
      "8\n",
      "(140357853711856, 4)\n"
     ]
    }
   ],
   "source": [
    "import array as arr\n",
    "tableau = arr.array('l', [1, 2, 3, 4])\n",
    "print(type(tableau))\n",
    "print(tableau.typecode)\n",
    "print(tableau.itemsize)\n",
    "print(tableau.buffer_info())"
   ]
  },
  {
   "cell_type": "markdown",
   "id": "72f6dbe7-175b-487f-9e5f-3bad858822db",
   "metadata": {},
   "source": [
    "**Initialiser un tableau de type array de taille fixe**"
   ]
  },
  {
   "cell_type": "code",
   "execution_count": 10,
   "id": "23dab244-1069-494b-b157-7d76d84250a2",
   "metadata": {},
   "outputs": [],
   "source": [
    "tableau = arr.array('l', [0]*10) # avec 10 éléments"
   ]
  },
  {
   "cell_type": "markdown",
   "id": "1ba4eca1-2a30-4561-baa6-26359cc80fb0",
   "metadata": {},
   "source": [
    "**Le genre d'erreur que vous allez rencontrer**"
   ]
  },
  {
   "cell_type": "code",
   "execution_count": 3,
   "id": "ee417c11-2e93-4c91-9f6d-42f831ca05a7",
   "metadata": {},
   "outputs": [
    {
     "ename": "TypeError",
     "evalue": "an integer is required (got type str)",
     "output_type": "error",
     "traceback": [
      "\u001b[0;31m---------------------------------------------------------------------------\u001b[0m",
      "\u001b[0;31mTypeError\u001b[0m                                 Traceback (most recent call last)",
      "\u001b[0;32m/tmp/ipykernel_377944/3427128909.py\u001b[0m in \u001b[0;36m<module>\u001b[0;34m\u001b[0m\n\u001b[0;32m----> 1\u001b[0;31m \u001b[0mtableau\u001b[0m \u001b[0;34m=\u001b[0m \u001b[0marr\u001b[0m\u001b[0;34m.\u001b[0m\u001b[0marray\u001b[0m\u001b[0;34m(\u001b[0m\u001b[0;34m'l'\u001b[0m\u001b[0;34m,\u001b[0m \u001b[0;34m[\u001b[0m\u001b[0;34m'a'\u001b[0m\u001b[0;34m]\u001b[0m\u001b[0;34m)\u001b[0m\u001b[0;34m\u001b[0m\u001b[0;34m\u001b[0m\u001b[0m\n\u001b[0m",
      "\u001b[0;31mTypeError\u001b[0m: an integer is required (got type str)"
     ]
    }
   ],
   "source": [
    "tableau = arr.array('l', ['a'])"
   ]
  },
  {
   "cell_type": "code",
   "execution_count": 4,
   "id": "0a57c2d1-a9c6-43bb-b305-f6b370086bff",
   "metadata": {},
   "outputs": [
    {
     "ename": "OverflowError",
     "evalue": "can't convert negative value to unsigned int",
     "output_type": "error",
     "traceback": [
      "\u001b[0;31m---------------------------------------------------------------------------\u001b[0m",
      "\u001b[0;31mOverflowError\u001b[0m                             Traceback (most recent call last)",
      "\u001b[0;32m/tmp/ipykernel_377944/75693290.py\u001b[0m in \u001b[0;36m<module>\u001b[0;34m\u001b[0m\n\u001b[0;32m----> 1\u001b[0;31m \u001b[0mtableau\u001b[0m \u001b[0;34m=\u001b[0m \u001b[0marr\u001b[0m\u001b[0;34m.\u001b[0m\u001b[0marray\u001b[0m\u001b[0;34m(\u001b[0m\u001b[0;34m'I'\u001b[0m\u001b[0;34m,\u001b[0m \u001b[0;34m[\u001b[0m\u001b[0;34m-\u001b[0m\u001b[0;36m2\u001b[0m\u001b[0;34m]\u001b[0m\u001b[0;34m)\u001b[0m\u001b[0;34m\u001b[0m\u001b[0;34m\u001b[0m\u001b[0m\n\u001b[0m",
      "\u001b[0;31mOverflowError\u001b[0m: can't convert negative value to unsigned int"
     ]
    }
   ],
   "source": [
    "tableau = arr.array('I', [-2])"
   ]
  },
  {
   "cell_type": "markdown",
   "id": "dd902d9b-29a8-46e5-af1f-b7335df09917",
   "metadata": {},
   "source": [
    "### Initialiser un tableau avec un type List"
   ]
  },
  {
   "cell_type": "code",
   "execution_count": 5,
   "id": "e1a0f989-b2dd-4450-9aed-b216cec6ffe4",
   "metadata": {},
   "outputs": [],
   "source": [
    "# Initialisation d'un tableau d'entiers avec 8 éléments\n",
    "tableau_int = [0]*8\n",
    "# Initialisation d'un tableau de flottants avec 5 éléments\n",
    "tableau_float = [0.]*5\n",
    "# Initialisation d'un tableau de chaînes de caractères avec 4 éléments\n",
    "tableau_str = [\"a\" for i in range(4)] \n",
    "# Initialisation d'un tableau avec des objets de type None avec 7 éléments\n",
    "tableau_str = [None for i in range(4)] # L'objet Python None, exprime l'absence de valeur. "
   ]
  },
  {
   "cell_type": "markdown",
   "id": "f9cd9dc0-4658-4a21-9ef3-5ef506b879e5",
   "metadata": {},
   "source": [
    "**Ce qu'il convient de ne pas faire**"
   ]
  },
  {
   "cell_type": "code",
   "execution_count": 11,
   "id": "fbe21abb-8bfb-4052-afee-78b534121d71",
   "metadata": {},
   "outputs": [],
   "source": [
    "tableau = [1, 'a', [2, 3], \"Bonjour\"]"
   ]
  },
  {
   "cell_type": "markdown",
   "id": "19aaa183-04fd-4c10-96fc-b5d4cf9132da",
   "metadata": {},
   "source": [
    "### Intialiser un tableau avec numpy"
   ]
  },
  {
   "cell_type": "code",
   "execution_count": 6,
   "id": "5c9515f9-1477-4791-bec0-739534e3832b",
   "metadata": {},
   "outputs": [],
   "source": [
    "import numpy as np"
   ]
  },
  {
   "cell_type": "code",
   "execution_count": 7,
   "id": "20170683-1f03-435f-9b2c-e50d2b3e8777",
   "metadata": {},
   "outputs": [
    {
     "name": "stdout",
     "output_type": "stream",
     "text": [
      "Un tableau de longueur 10, rempli d'entiers qui valent 1\n",
      "[1 1 1 1 1 1 1 1 1 1]\n",
      "Modifier la valeur d'indice 0 (premier élément) dans le tableau avec un flottant = 2.2\n",
      "le flottant est transformé en un entier = 2 : [2 1 1 1 1 1 1 1 1 1]\n",
      "Un tableau de longueur 10, rempli de flottants qui valent 1.0\n",
      "[1. 1. 1. 1. 1. 1. 1. 1. 1. 1.]\n",
      "Un tableau de longueur 10, rempli d'entiers qui valent 4\n",
      "[4 4 4 4 4 4 4 4 4 4]\n",
      "Un tableau de longueur 5, rempli d'objet None\n",
      "[None None None None None]\n",
      "Un tableau de longueur 6, rempli d'entiers tirés aléatoirement dans l'intervalle [0, 10[\n",
      "[9 3 1 6 1 3]\n",
      "Un tableau 4x3 rempli de 3.14\n",
      "[[3.14 3.14 3.14]\n",
      " [3.14 3.14 3.14]\n",
      " [3.14 3.14 3.14]\n",
      " [3.14 3.14 3.14]]\n",
      "<class 'numpy.ndarray'>\n"
     ]
    }
   ],
   "source": [
    "print(\"Un tableau de longueur 10, rempli d'entiers qui valent 1\")\n",
    "tableau = np.ones(10, dtype=int)\n",
    "print(tableau)\n",
    "print(\"Modifier la valeur d'indice 0 (premier élément) dans le tableau avec un flottant = 2.2\")\n",
    "tableau[0] = 2.2\n",
    "print(f\"le flottant est transformé en un entier = 2 : {tableau}\")\n",
    "print(\"Un tableau de longueur 10, rempli de flottants qui valent 1.0\")\n",
    "tableau = np.ones(10, dtype=float)\n",
    "print(tableau)\n",
    "print(\"Un tableau de longueur 10, rempli d'entiers qui valent 4\")\n",
    "tableau = np.full(10, 4.2, dtype=int)\n",
    "print(tableau)\n",
    "print(\"Un tableau de longueur 5, rempli d'objet None\")\n",
    "tableau = np.full(5, None)\n",
    "print(tableau)\n",
    "print(\"Un tableau de longueur 6, rempli d'entiers tirés aléatoirement dans l'intervalle [0, 10[\")\n",
    "tableau = np.random.randint(10, size=6)\n",
    "print(tableau)\n",
    "print(\"Un tableau 4x3 rempli de 3.14\")\n",
    "tableau = np.full((4, 3), 3.14, dtype=float)\n",
    "print(tableau)\n",
    "print(type(tableau))"
   ]
  },
  {
   "cell_type": "markdown",
   "id": "6720fbf8-97d6-4d84-943b-9a50a7c8da1a",
   "metadata": {},
   "source": [
    "## Exercices:"
   ]
  },
  {
   "cell_type": "markdown",
   "id": "25565451-d865-4a6b-b398-938027d6c2a4",
   "metadata": {},
   "source": [
    "Écrire un algorithme pour résoudre les problèmes suivants ;\n",
    "\n",
    "1. afficher les éléments d'un tableau\n",
    "2. insertion d’un élément à la fin ;\n",
    "3. insertion d’un élément en position i ;\n",
    "4. insertion d’un élément au début ;\n",
    "5. suppression d’un élément à la fin ;\n",
    "6. suppression d’un élément en position i ;\n",
    "7. suppression d’un élément au début ;\n",
    "8. Étant donné un entier n, trouver un l’entier le plus proche de n dans le tableau.\n",
    "9. Le tableau est-il trié ?"
   ]
  },
  {
   "cell_type": "markdown",
   "id": "55556c9a-123e-4096-9f6f-fe51dd866131",
   "metadata": {},
   "source": [
    "christophe.casseau@u-bordeaux.fr"
   ]
  }
 ],
 "metadata": {
  "kernelspec": {
   "display_name": "Python 3 (ipykernel)",
   "language": "python",
   "name": "python3"
  },
  "language_info": {
   "codemirror_mode": {
    "name": "ipython",
    "version": 3
   },
   "file_extension": ".py",
   "mimetype": "text/x-python",
   "name": "python",
   "nbconvert_exporter": "python",
   "pygments_lexer": "ipython3",
   "version": "3.9.7"
  }
 },
 "nbformat": 4,
 "nbformat_minor": 5
}
