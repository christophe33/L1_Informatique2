{
 "cells": [
  {
   "cell_type": "markdown",
   "id": "d0399c5f-0cc2-4d0b-87e7-6619c94137a3",
   "metadata": {},
   "source": [
    "# Complexité d'un algorithme"
   ]
  },
  {
   "cell_type": "markdown",
   "id": "5ef919e0-34f6-4d58-abc4-ef81e94c7cc6",
   "metadata": {},
   "source": [
    "Déterminer la complexité d’un algorithme, c’est évaluer\n",
    "* la quantité de mémoire requise : **complexité spatiale**,\n",
    "* le temps de calcul à prévoir : **complexité temporelle**.\n",
    "\n",
    "Ces deux notions dépendent de nombreux paramètres matériels qui sortent du domaine de l’algorithmique. Mais il est souvent possible d'évaluer l'ordre de grandeur de ces deux quantités. Cela permet de déterminer **l'efficacité d'un algorithme**. Un algorithme inefficace peut augmenter les temps de calcul de quelques millisecondes à plusieurs années. Dans un premier temps nous allons nous interésser à la compléxité temporelle.\n",
    "\n",
    "## Pourquoi et comment évaluer le temps de calcul à prévoir ?\n",
    "\n"
   ]
  },
  {
   "cell_type": "markdown",
   "id": "38be101b-41a9-42ac-abf8-9bc228c972fb",
   "metadata": {},
   "source": [
    "### Exemple 1 : pourquoi ? \n",
    "\n",
    "Problème : Construire une ville de 14 maisons et 1 pizzéria, pour éviter aux livreurs de pizzas de parcourir trop de distance lors des livraisons. On suppose qu'il faut une unité de temps pour passer d'une maison à une autre. Les routes possibles pour les livreurs sont représentées avec des traits noirs.\n",
    "\n",
    "* Disposition 1 : linéaire\n",
    "* Disposition 2 : arborescente\n",
    "\n",
    "Pour ces deux dispositions quel est le pire cas pour une commande à livrer quand la pizzeria est en position 1 ? "
   ]
  },
  {
   "cell_type": "markdown",
   "id": "7459c9aa-47b3-4142-a4bf-79b8c980cbe0",
   "metadata": {},
   "source": [
    "![](images/pizzasIcone.png)"
   ]
  },
  {
   "cell_type": "markdown",
   "id": "e2671de8-3da3-4616-98aa-6bc4d71f11e5",
   "metadata": {},
   "source": [
    "Même question avec 1023, 16777215 et $n$ maisons"
   ]
  },
  {
   "cell_type": "code",
   "execution_count": 1,
   "id": "331b6c8c-f516-48b8-8de8-36c8554b7324",
   "metadata": {},
   "outputs": [],
   "source": [
    "from numpy import log10, arange, trunc\n",
    "import matplotlib.pyplot as plt"
   ]
  },
  {
   "cell_type": "code",
   "execution_count": 3,
   "id": "4cdfedfd-cb85-4ee1-a921-2bef57bed1b8",
   "metadata": {},
   "outputs": [
    {
     "data": {
      "image/png": "[encoded data removed]",
      "text/plain": [
       "<Figure size 432x288 with 1 Axes>"
      ]
     },
     "metadata": {
      "needs_background": "light"
     },
     "output_type": "display_data"
    }
   ],
   "source": [
    "x_max = 16\n",
    "rep = \".-\"\n",
    "x = arange(3, x_max)\n",
    "dispo1 = x\n",
    "dispo2 = trunc(log10(x)/log10(2))\n",
    "log_2 = log10(x)/log10(2)\n",
    "plt.xlim(0, x_max)\n",
    "plt.ylim(0, x_max)\n",
    "plt.plot(x, dispo1, rep,label=\"disposition 1\")\n",
    "plt.plot(x, dispo2, rep,label=\"disposition 2\")\n",
    "plt.plot(x, log_2, rep,label=\"log2(n)\")\n",
    "plt.xlabel(\"Nombre de maisons (n)\")\n",
    "plt.ylabel(\"Unités de temps\")\n",
    "plt.title(\"Unités de temps dans le pire cas\")\n",
    "plt.legend()\n",
    "plt.grid()\n",
    "plt.show()"
   ]
  },
  {
   "cell_type": "markdown",
   "id": "43f8edd6-2347-4529-88b9-8cedc3e9be73",
   "metadata": {},
   "source": [
    "## Exemple 2 : comment ? \n",
    "\n",
    "**Réallocation de tableau en temps constant amortis** "
   ]
  },
  {
   "cell_type": "markdown",
   "id": "51b2c8c3-b741-4f8a-abc9-3d756690ecda",
   "metadata": {},
   "source": [
    "Problème : Soit un tableau quelconque (non trié) dans lequel on veut ajouter de nouveaux éléments. À l'ajout d'un élément, ou bien le tableau admet encore au moins une case vide ou bien il est totalement rempli. \n",
    "* Dans le premier cas l'adjonction du nouvel élément consiste en une opération élémentaire d'insertion en fin de tableau avec une complexité en $O(1)$. \n",
    "* Dans le second cas (qui sera considéré comme un cas rare), \n",
    "    * il faut d'abord créer un nouveau tableau dont la taille est supérieure à celle du tableau précédent, \n",
    "    * puis recopier les éléments de l'ancien tableau, \n",
    "    * puis insérer l'élément à ajouter. \n",
    "\n",
    "Comment étendre la taille d'un tableau pour garantir que le coût de l'insertion dans un tableau plein reste globalement marginal, conduisant à un coût en $O(1)$ pour ce que l'on appelera **la moyenne amortie**. *Les algorithmes de complexité constante amortie sont constants *vus de loin* mais peuvent être plus lents que prévus de manière occasionnelle.*\n",
    "\n",
    "Pour cela nous allons étudier deux stratégies.\n",
    "* Stratégie 1 : Le tableau ne contient rien et on ajoute les éléments par blocs de taille fixe à la fin du tableau. On pourra commencer avec des blocs de 1 élément puis généraliser à des blocs de b éléments.\n",
    "* Stratégie 2 : Même principe mais on double la taille des blocs à chaque fois.\n",
    "\n",
    "Pour ces deux stratégies quel est le nombre d'écritures nécessaires ? Le nombre d'écritures correspond à l'ensemble des opérations nécessaires pour la copie et le stockage des éléments. C'est un bon bon indicateur de la complexité temporelle si l'on considère qu'une écriture se fait en temps constant. \n",
    "\n",
    "#### Réallocation par ajout d’une case\n",
    "Avec cette stratégie il est nécessaire d'allouer un nouveau tableau et d'en recopier tous les éléments à chaque insertion. Le nombre d'écritures (noté $i\\in\\mathbb{N}$) est égal à:\n",
    "$$\\sum_{i=1}^{n}i = \\dfrac{n(n+1)}{2}\\approx \\dfrac{n^2}{2}$$\n",
    "\n",
    "#### Réallocation par ajout d'un bloc de taille fixe $b$\n",
    "Pour simplifier les notations nous faisons l'hypothèse que le nombre d'éléments $n$ à ajouter est un multiple de $b$ c'est à dire que $n = kb$. Dans ce cas le nombre d'écritures est égal à:\n",
    "$$\\sum_{i=1}^{k}bi = b\\dfrac{k(k+1)}{2} \\approx \\dfrac{n^2}{2b}$$\n",
    "\n",
    "#### Réallocation par ajout d'un bloc dont la taille double à chaque fois\n",
    "Pour simplifier les notations nous faisons l'hypothèse que le nombre d'éléments $n$ à ajouter est une puissance de deux c'est à dire que $n=2^k$ avec $k$ le nombre d'étapes à réaliser. Dans ce cas le nombre d'écritures est égal à:\n",
    "$$\\sum_{i=0}^{k}2^k = \\dfrac{1-2^{k+1}}{1-2} = 2^{k+1}-1 \\approx 2n$$\n",
    "\n",
    "#### En conclusion\n",
    "\n",
    "Dans un tableau de taille n, l'ajout d'un élément à une complexité en temps dans le pire cas de :\n",
    "* $O(n^2)$ pour des réallocations avec des blocs de taille fixe.\n",
    "* $O(n)$ lorsque que l'on double la taille des blocs à chaque réallocation. "
   ]
  },
  {
   "cell_type": "markdown",
   "id": "6bc4efc5-4b3b-4f1a-be82-41bad8139469",
   "metadata": {},
   "source": [
    "**Remarque :** Est-on sûr que doubler la taille des blocs à chaque réallocation soit la meilleur stratégie ?\n",
    "\n",
    "https://github.com/python/cpython/blob/main/Objects/listobject.c"
   ]
  },
  {
   "cell_type": "markdown",
   "id": "703b19f8-ed87-40ea-8fbf-8310d9e39dc9",
   "metadata": {},
   "source": [
    "### Temps d'exécution\n",
    "\n",
    "Un processeur actuel (2021) dont la vitesse d'horloge est de 3,2 GHz exécute 3,2 milliards de cycles par seconde. Parfois, plusieurs instructions sont exécutées en un seul cycle d'horloge ; dans d'autres cas, une seule instruction peut être traitée sur plusieurs cycles d'horloge. Attention toutefois comme les différentes conceptions de CPU traitent les instructions différemment, il est préférable de comparer les vitesses d'horloge au sein d'une même marque de CPU et d'une même génération.\n",
    "\n",
    "Pour simplifier les calculs, soit un processeur exécutant une instruction élémentaire en $10^{-9}$ s.</br>\n",
    "Soit un algorithme qui prend en entrée un jeu de données de $n = 10^6$ éléments.\n",
    "\n",
    "L'exécution pour cet algorithme de  : \n",
    "* $n$ instructions élémentaires nécessitent  $10^{-3}\\ s$\n",
    "* $n^2$ instructions élémentaires nécessitent  $10^{3}\\ s= 16\\ min\\ 40\\ s$\n",
    "* $\\log_2(n)$ instructions élémentaires nécessitent  $\\approx 2\\times10^{-8}\\ s = 20\\ ns$\n",
    "* $n\\times\\log_2(n)$ instructions élémentaires nécessitent  $\\approx 0.02\\ s$\n",
    "\n",
    "### Complexité temporelle\n",
    "\n",
    "En algorithmique, la complexité en temps est une mesure du temps utilisé par un algorithme, exprimé comme fonction de la taille de l'entrée. La notion d'entrée est à percevoir comme une donnée dont on ne connait pas la taille à l'avance et qui dépend du choix de l'utilisateur. Pour s'affranchir des environnements matériel et logiciel, évaluer le temps d'exécution consiste à compter le nombre d'instructions élémentaires avant d'arriver à un résultat. On se contente souvent de  donner une borne supérieure ou inférieure sur le nombre d'instructions élémentaires, exprimée par un ordre de grandeur qui est indépendant de l'implémentation de l'algorithme et du langage de programmation.\n",
    "\n",
    "On définit trois complexité différentes:\n",
    "* La complexité dans le **pire** des cas -> borne supérieure\n",
    "* La complexité dans le **meilleur** des cas -> borne inférieure\n",
    "* La complexité en **moyenne**\n",
    "\n",
    "#### Les instructions élémentaires\n",
    "\n",
    "La première étape consiste donc à préciser quelles sont les instructions élémentaires, c’est-à-dire celle qui\n",
    "seront considérées comme ayant un coût constant, indépendant de leurs paramètres. Parmi celles-ci figurent en\n",
    "général :\n",
    "* les opérations arithmétiques (addition, soustraction, multiplication, division, ...)\n",
    "* la comparaisons de données (relation d’égalité, d’infériorité, ...)\n",
    "* les transferts de données (lecture et écriture dans un emplacement mémoire)\n",
    "* les instructions de contrôle (branchement conditionnel et inconditionnel, appel à une fonction auxiliaire, ...)\n",
    "\n",
    "#### La taille de l'entrée\n",
    "\n",
    "Il maintenant nécessaire de définir ce que l'on appelle la taille de l'entrée. Il peut s'agir : \n",
    "* du nombre d'éléments des paramètres de l'algorithme comme le nombre d'éléments d'un tableau\n",
    "* d'un ou plusieurs entiers sur lesquels on va itérer \n",
    "* autres ???\n",
    "\n",
    "#### Notations mathématiques\n",
    "\n",
    "Il reste à évaluer en fonction de la taille de l'entrée le nombre $f(n)$ d’opérations élémentaires requises par l’algorithme. Mais comme il est difficile et fastidieux d'en déterminer le nombre exact, on se contentera le plus souvent d’en donner l’ordre de grandeur à l’aide des notations de Landau. Cette notation permet de décrire le comportement asymptotique des fonctions. Intuitivement, elle indique avec quelle rapidité une fonction *augmente* ou *diminue*.\n",
    "\n",
    "* **Limite asymptotique supérieure :** Soient $f : \\mathbb{N} \\rightarrow \\mathbb{R}$ et $g : \\mathbb{N} \\rightarrow \\mathbb{R}$. On dit que $f(n)=O(g(n))$ si et seulement si:\n",
    "\n",
    "$$\\exists c \\in \\mathbb{R}^{+*}, \\exists n_0 \\in \\mathbb{N}^*\\,|\\,f(n) \\leqslant c*g(n), \\forall n > n_0$$\n",
    "\n",
    "Cette notation indique que dans le pire des cas, la croissance de $f(n)$ ne dépassera pas celle de $g(n)$.\n",
    "L’usage de cette notation exprime l’objectif qu’on se donne le plus souvent : **déterminer le temps d’exécution\n",
    "dans le cas le plus défavorable.**\n",
    "\n",
    "* **Limite asymptotique inférieure :** Soient $f : \\mathbb{N} \\rightarrow \\mathbb{R}$ et $g : \\mathbb{N} \\rightarrow \\mathbb{R}$. On dit que $f(n)=\\Omega(g(n))$ si et seulement si:\n",
    "\n",
    "$$\\exists c \\in \\mathbb{R}^{+*}, \\exists n_0 \\in \\mathbb{N}^*\\,|\\,f(n) \\geqslant c*g(n), \\forall n > n_0$$\n",
    "\n",
    "Enfin, lorsque le pire et le meilleur des cas ont même ordre de grandeur, on utilise la notation $\\Theta$\n",
    "\n",
    "* **Limite asymptotique $\\Theta$ :** Soient $f : \\mathbb{N} \\rightarrow \\mathbb{R}$ et $g : \\mathbb{N} \\rightarrow \\mathbb{R}$. On dit que $f(n)=\\Theta(g(n))$ si et seulement si:\n",
    "\n",
    "$$\\exists c_1 \\in \\mathbb{R}^{+*}, \\exists c_2 \\in \\mathbb{R}^{+*}, \\exists n_0 \\in \\mathbb{N}^*\\,|\\, c_1*g(n) \\leqslant f(n) \\leqslant c_2*g(n), \\forall n > n_0$$"
   ]
  },
  {
   "cell_type": "markdown",
   "id": "5b3dfc78-c561-43a7-b9bf-07ad3749b241",
   "metadata": {},
   "source": [
    "### Ordre de grandeur et temps d'exécution\n",
    "\n",
    "En considérant que l'on réalise $10^9$ opérations à la seconde, le tableau ci-dessous donne un ordre de grandeur du temps nécessaire à l’exécution d’un algorithme en fonction de sa complexité et de la taille des entrées. Ce tableau montre clairement que les algorithmes ayant une complexité supérieure à une complexité quadratique $O(n^2)$ soient en général considérées comme inutilisables en pratique (sauf pour de petites\n",
    "voire très petites valeurs de n).\n",
    "\n",
    "$$\\begin{array}{|l|l|l|l|l|l|l|}\\hline\n",
    "&\\log(n) & n\\log(n) & n & n^2 & n^3 & 2^n \\\\\\hline\n",
    "10^2 & 7 ns  & 100 ns    & 0.7 \\mu s & 10 \\mu s      & 1 ms & 4\\times 10^{13} \\text{ années}\\\\\\hline\n",
    "10^3 & 10 ns & 1 \\mu s   & 10 \\mu s  & 1 ms          & 1s   & 10^{292} \\text{ années}\\\\\\hline\n",
    "10^4 & 13 ns & 10 \\mu s  & 133 \\mu s & 100 ms        & 17 s & \\\\\\hline\n",
    "10^5 & 17 ns & 100 \\mu s & 2 ms      & 10 s          & 11, 6 \\text{ jours} & \\\\\\hline\n",
    "10^6 & 20 ns & 1 ms      & 20 ms     & 17 \\text{ mn} & 32 \\text{ années}& \\\\\\hline\n",
    "\\end{array}$$\n",
    "\n",
    "Qualifications usuelles des complexités.\n",
    "\n",
    "$$\\begin{array}{|l|l|}\\hline\n",
    "O(\\log(n))       & \\text{logarithmique}\\\\\\hline\n",
    "O(n)             & \\text{linéaire}\\\\\\hline\n",
    "O(n\\log(n))      & \\text{quasi-linéaire}\\\\\\hline\n",
    "O(n^2 )          & \\text{quadratique}\\\\\\hline\n",
    "O(n^k)\\ k > 0    & \\text{polynomiale}\\\\\\hline\n",
    "O(a^n)\\ a > 1    & \\text{exponentielle}\\\\\\hline\n",
    "O(n!)            & \\text{factorielle}\\\\\\hline\n",
    "\\end{array}$$"
   ]
  },
  {
   "cell_type": "markdown",
   "id": "e17eb6f9-7220-4fa1-bf1c-be321d129c3f",
   "metadata": {},
   "source": [
    "## Un problème entraîne souvent plusieurs algorithmes\n",
    "\n",
    "Soit un groupe de $n$ personnes numérotées de 1 à $n$. Une personne $i$ connaît $j$ ou bien elle ne la connaît pas.\n",
    "\n",
    "Une star est une personne :\n",
    "* que tout le monde connaît\n",
    "* mais qui ne connaît personne"
   ]
  },
  {
   "cell_type": "code",
   "execution_count": null,
   "id": "f18ba1e5-2ebc-445f-b2e1-1a49e409a5a8",
   "metadata": {},
   "outputs": [],
   "source": [
    "# Attention ce programme n'est pas syntaxiquement correct, n'essayez pas de l'exécuter\n",
    "# Il permet juste d'écrire l'algorithme utilisé pour une solution possible au problème\n",
    "\n",
    "def star_naif(n):\n",
    "    for i in range(n):\n",
    "        star  = True\n",
    "        for j in range(n):\n",
    "            if j != i and jConnaitPas(i):\n",
    "                star = False\n",
    "        for j in range(n):\n",
    "            if j!= i and iConnait(j):\n",
    "                start = False\n",
    "        if star:\n",
    "            return i\n",
    "    return None"
   ]
  },
  {
   "cell_type": "markdown",
   "id": "39b5b65d-65b0-49d9-b420-e83ccab7a42d",
   "metadata": {},
   "source": [
    "1. Donner un ordre de grandeur de la complexité temporelle de cet algorithme en détaillant votre raisonnement\n",
    "2. Peut-on faire mieux ? Si oui, proposer une autre solution\n",
    "3. Donner l'ordre de grandeur de la complexité temporelle de cette nouvelle solution"
   ]
  },
  {
   "cell_type": "code",
   "execution_count": null,
   "id": "974e02f0-9be5-4d95-8a4d-9fa349bff7b9",
   "metadata": {},
   "outputs": [],
   "source": []
  }
 ],
 "metadata": {
  "kernelspec": {
   "display_name": "Python 3",
   "language": "python",
   "name": "python3"
  },
  "language_info": {
   "codemirror_mode": {
    "name": "ipython",
    "version": 3
   },
   "file_extension": ".py",
   "mimetype": "text/x-python",
   "name": "python",
   "nbconvert_exporter": "python",
   "pygments_lexer": "ipython3",
   "version": "3.9.4"
  }
 },
 "nbformat": 4,
 "nbformat_minor": 5
}
