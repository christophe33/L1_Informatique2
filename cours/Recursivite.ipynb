{
 "cells": [
  {
   "cell_type": "markdown",
   "id": "d2a6eff8-1c8c-4210-90c6-1c12e7ce9774",
   "metadata": {},
   "source": [
    "# Introduction à la récursivité\n",
    "\n",
    "Les premiers langages de programmation qui ont autorisé la récursivité sont LISP et Algol60. Depuis tous les langages de programmation généraux réalisent une implémentation de la récursivité. On oppose généralement les algorithmes récursifs aux algorithmes itératifs qui s'exécutent sans appeler explicitement l'algorithme lui-même."
   ]
  },
  {
   "cell_type": "markdown",
   "id": "e95140c3-4fff-49f5-a0ef-778d5ea7aeb7",
   "metadata": {},
   "source": [
    "<div class=\"alert alert-warning\" role=\"alert\"><b>Définition: </b>\n",
    "    <ul>\n",
    "        <li> On appelle récursive toute fonction ou procédure qui s’appelle elle même.</li>\n",
    "        <li> Lorsque deux algorithmes s'appellent l'un l'autre on dit que la récursivité est croisée.</li>\n",
    "    </ul>\n",
    "</div>\n",
    "\n",
    "## Concept de la récursivité\n",
    "* Stratégie **Diviser pour régner** (divide-and-conquer). Le processus de récursion consiste à découper un problème en sous-problèmes. Comment le problème au rang $n$ se déduit-il de la solution à un (deux) rang(s) inférieur(s) ?\n",
    "* Les sous-problèmes doivent finir par devenir suffisamment simples pour être résolus directement\n",
    "* On peut combiner les solutions des sous-problèmes pour produire la solution du problème au rang $n$\n",
    "\n",
    "## Terminaison\n",
    "* Un processus récursif peut ne pas se terminer -> équivalent à la boucle infinie pour les algorithmes itératifs\n",
    "* Comme dans le cas d'une boucle, il faut un cas de base qui doit toujours être atteint dans lequel il n'y a **pas d'appel récursif**"
   ]
  },
  {
   "cell_type": "code",
   "execution_count": null,
   "id": "39990578-c557-41fd-bf3c-be4b34a8b5e7",
   "metadata": {},
   "outputs": [],
   "source": [
    "def fonctionRecursive(args):\n",
    "    \n",
    "    if TEST_ARRET_FONCTION: # terminaison, pas d'appel récursif\n",
    "        # instructions du point d'arrêt \n",
    "    else:\n",
    "        # instructions\n",
    "        fonctionRecursive(args)  # appel récursif\n",
    "        # instructions"
   ]
  },
  {
   "cell_type": "markdown",
   "id": "ee97ffbc-a140-4899-afa4-1c2c3ab67bde",
   "metadata": {},
   "source": [
    "**Quelques remarques**\n",
    "* L’écriture sous forme récursive est souvent plus simple que l’écriture sous forme itérative. La plupart des traitements itératifs simples sont facilement traduisibles sous forme récursive (exemple du for)\n",
    "* L’inverse est faux\n",
    "* Il arrive même qu’un problème ait une solution récursive triviale alors qu’il est très difficile d’en trouver une solution itérative\n",
    "* L'exécution d'une version récursive d'un algorithme est généralement un peu moins rapide que celle de la version itérative, même si le nombre d'instructions est le même (à cause dela gestion des appels de fonction)."
   ]
  },
  {
   "cell_type": "markdown",
   "id": "ff789a3c-073e-44d7-b075-d8d8e4312f45",
   "metadata": {},
   "source": [
    "## Bien comprendre les appels récursifs\n",
    "\n",
    "Python tutor : http://www.pythontutor.com/visualize.html#mode=edit"
   ]
  },
  {
   "cell_type": "markdown",
   "id": "1f147bb8-7e61-43e8-ba25-bca2d0dda96e",
   "metadata": {},
   "source": [
    "À faire sur le papier\n",
    "\n",
    "1. Que renvoie la fonction ```mystere1``` pour l'appel suivant ```print(mystere1(4))```\n",
    "1. Que renvoie la fonction ```mystere2``` pour l'appel suivant ```print(mystere2([1,3,8], 3))```\n",
    "1. À l'aide du lien ci-dessus décrire les différentes étapes de la recursion de ces deux fonctions pour les appels proposés."
   ]
  },
  {
   "cell_type": "code",
   "execution_count": null,
   "id": "a1e78e6e-17eb-453e-911d-a98376498133",
   "metadata": {},
   "outputs": [],
   "source": [
    "def mystere1(n):\n",
    "    \n",
    "    if n == 0:\n",
    "        return 0\n",
    "    else:\n",
    "        return n + mystere1(n-1)"
   ]
  },
  {
   "cell_type": "code",
   "execution_count": null,
   "id": "8822188b-49a3-4bd6-bb13-aa8f96bc4af7",
   "metadata": {},
   "outputs": [],
   "source": [
    "def mystere2(tab, n):\n",
    "    \n",
    "    if n == 0:\n",
    "        return tab[0]\n",
    "    else:\n",
    "        m = mystere2(tab, n-1)\n",
    "        if tab[n-1] > m:\n",
    "            return tab[n-1]\n",
    "        return m"
   ]
  },
  {
   "cell_type": "markdown",
   "id": "01ae7e2d-7a24-4892-8458-f73ee8dbf397",
   "metadata": {},
   "source": [
    "### Environnement\n",
    "\n",
    "Chaque appel récursif nécessite de construire dynamiquement un nouvel environnement :\n",
    "\n",
    "* où retourner le résultat de l'appel : une adresse de retour (ou des adresses)\n",
    "* les paramètres effectifs de l'appel\n",
    "* les variables locales nécessaire au traitement demandé\n",
    "\n",
    "\n",
    "### Pile d'éxecution\n",
    "\n",
    "La pile d'exécution est la mémoire associée nécessaire au stockage des paramètres d'appel, des adresses de retour, des variables locales\n",
    "\n",
    "* gérée par le langage de programmation : une pile LIFO de taille préfixée\n",
    "* mais avec un risque de débordement mémoire si les appels imbriqués sont trop nombreux.\n",
    "\n",
    "### Pile et arbre des appels\n",
    "\n",
    "À chaque appel de fonction, un nouvel environnement, appelé **frame** en Python, est placé (empilé) sur la pile d'exécution. Quand la condition d'arrêt est atteinte, le dernier appel de fonction renvoie une valeur et son environnement est retiré (dépilé) de la pile. Chaque *frame* ayant conservé les données dont la fonction a besoin pour son exécution locale, (à savoir les arguments de la fonction et ses variables locales) vont pouvoir ensuite être dépilés après exécution des fonctions associées. \n",
    "\n",
    "Remarque : L'environnement dans lequel s'exécute le programme est le premier à être placé dans la pile. Il contient toutes les variables globales.\n",
    "\n",
    "Dans les langages de programmation de haut niveau, les spécificités de la pile d’exécution sont cachées au programmeur. Ce dernier a uniquement accès aux appels de fonctions et aux paramètres associés, et non au contenu de la pile elle-même. Cependant en Python il existe un package d'introspection ```inspect``` qui va nous permettre d'observer l'évolution du contenu de la pile lors des appels récursifs.\n",
    "\n",
    "![](images/frame_console.png)\n",
    "\n",
    "**Exemple de la fonction** ```somme```"
   ]
  },
  {
   "cell_type": "code",
   "execution_count": 1,
   "id": "9eb63018-0759-4539-8e59-527401566b45",
   "metadata": {},
   "outputs": [],
   "source": [
    "import inspect"
   ]
  },
  {
   "cell_type": "code",
   "execution_count": 2,
   "id": "67f9ad32-eef3-423e-b844-f963c37bdd44",
   "metadata": {},
   "outputs": [],
   "source": [
    "def print_frames(frame_list):\n",
    "    module_frame_index = [i for i, f in enumerate(frame_list) if f.function == '<module>'][0]\n",
    "    for i in range(module_frame_index):\n",
    "        d = frame_list[i][0].f_locals\n",
    "        local_vars = {x: d[x] for x in d}\n",
    "        print(f\"  [Frame {module_frame_index - i} --> {frame_list[i].function}: {local_vars}]\")\n",
    "    print()\n",
    "\n",
    "def somme(n):\n",
    "    if n == 0:\n",
    "        print(f\"somme({n}) called:\")\n",
    "        print_frames(inspect.stack())\n",
    "        print(f\"somme({n}) returned {0}\")\n",
    "        return 0\n",
    "    else:\n",
    "        print(f\"somme({n}) called:\")\n",
    "        print_frames(inspect.stack())\n",
    "        result = n + somme(n-1)\n",
    "        print_frames(inspect.stack())\n",
    "        print(f\"somme({n}) returned {result}\")\n",
    "        return result"
   ]
  },
  {
   "cell_type": "code",
   "execution_count": 3,
   "id": "8c1ec829-a1dd-4460-bcb7-eeb8e1ceeaed",
   "metadata": {},
   "outputs": [
    {
     "name": "stdout",
     "output_type": "stream",
     "text": [
      "somme(2) called:\n",
      "  [Frame 1 --> somme: {'n': 2}]\n",
      "\n",
      "somme(1) called:\n",
      "  [Frame 2 --> somme: {'n': 1}]\n",
      "  [Frame 1 --> somme: {'n': 2}]\n",
      "\n",
      "somme(0) called:\n",
      "  [Frame 3 --> somme: {'n': 0}]\n",
      "  [Frame 2 --> somme: {'n': 1}]\n",
      "  [Frame 1 --> somme: {'n': 2}]\n",
      "\n",
      "somme(0) returned 0\n",
      "  [Frame 2 --> somme: {'n': 1, 'result': 1}]\n",
      "  [Frame 1 --> somme: {'n': 2}]\n",
      "\n",
      "somme(1) returned 1\n",
      "  [Frame 1 --> somme: {'n': 2, 'result': 3}]\n",
      "\n",
      "somme(2) returned 3\n"
     ]
    },
    {
     "data": {
      "text/plain": [
       "3"
      ]
     },
     "execution_count": 3,
     "metadata": {},
     "output_type": "execute_result"
    }
   ],
   "source": [
    "somme(2)"
   ]
  },
  {
   "cell_type": "markdown",
   "id": "463f7a99-d3e3-4e0b-aac4-1005b1ad4f3b",
   "metadata": {},
   "source": [
    "**Un exemple plus compliqué**"
   ]
  },
  {
   "cell_type": "code",
   "execution_count": 4,
   "id": "8bb59d18-212a-4a49-b37b-c61d39929341",
   "metadata": {},
   "outputs": [],
   "source": [
    "def afficher(n):\n",
    "    \n",
    "    if n > 0:\n",
    "        afficher(n-2)\n",
    "        print(n)\n",
    "        afficher(n-1)"
   ]
  },
  {
   "cell_type": "code",
   "execution_count": 5,
   "id": "3ee439f2-9ab8-4f80-a694-706faf970d21",
   "metadata": {},
   "outputs": [
    {
     "name": "stdout",
     "output_type": "stream",
     "text": [
      "2\n",
      "1\n",
      "4\n",
      "1\n",
      "3\n",
      "2\n",
      "1\n"
     ]
    }
   ],
   "source": [
    "afficher(4)"
   ]
  },
  {
   "cell_type": "markdown",
   "id": "89846603-3cb2-4eec-a7a8-db5e63c5b46c",
   "metadata": {},
   "source": [
    "L'appel de ```afficher(4)``` correspond à un parcours \"en profondeur d'abord\" de l'arbre des appels suivant\n",
    "\n",
    "![](images/arbre_appels_parcours.png)"
   ]
  },
  {
   "cell_type": "markdown",
   "id": "c88739ee-256b-4c31-b0c6-b8561291f5bf",
   "metadata": {},
   "source": [
    "Les appels ont lieu si $n>0$, il n'y a donc pas d'appel pour $n=-1$ et $n=0$. A chaque fois qu'il n'y a plus d'appel récursif la suite des instructions de l'appel courant est effectuée, c'est à dire l'affichage de la valeur de $n$. On remarque également que des sous-arbres tel que ```afficher(1)``` se répètent."
   ]
  },
  {
   "cell_type": "code",
   "execution_count": 6,
   "id": "f5662e7f-383f-49b5-bc08-1cc5c793bb32",
   "metadata": {},
   "outputs": [],
   "source": [
    "def afficher(n):\n",
    "    print_frames(inspect.stack())\n",
    "    if n > 0:\n",
    "        afficher(n-2)\n",
    "        print(n)\n",
    "        afficher(n-1)\n",
    "        print_frames(inspect.stack())"
   ]
  },
  {
   "cell_type": "code",
   "execution_count": 7,
   "id": "52cc1e4d-19b6-4ae0-8772-748643ef27ae",
   "metadata": {},
   "outputs": [
    {
     "name": "stdout",
     "output_type": "stream",
     "text": [
      "  [Frame 1 --> afficher: {'n': 4}]\n",
      "\n",
      "  [Frame 2 --> afficher: {'n': 2}]\n",
      "  [Frame 1 --> afficher: {'n': 4}]\n",
      "\n",
      "  [Frame 3 --> afficher: {'n': 0}]\n",
      "  [Frame 2 --> afficher: {'n': 2}]\n",
      "  [Frame 1 --> afficher: {'n': 4}]\n",
      "\n",
      "2\n",
      "  [Frame 3 --> afficher: {'n': 1}]\n",
      "  [Frame 2 --> afficher: {'n': 2}]\n",
      "  [Frame 1 --> afficher: {'n': 4}]\n",
      "\n",
      "  [Frame 4 --> afficher: {'n': -1}]\n",
      "  [Frame 3 --> afficher: {'n': 1}]\n",
      "  [Frame 2 --> afficher: {'n': 2}]\n",
      "  [Frame 1 --> afficher: {'n': 4}]\n",
      "\n",
      "1\n",
      "  [Frame 4 --> afficher: {'n': 0}]\n",
      "  [Frame 3 --> afficher: {'n': 1}]\n",
      "  [Frame 2 --> afficher: {'n': 2}]\n",
      "  [Frame 1 --> afficher: {'n': 4}]\n",
      "\n",
      "  [Frame 3 --> afficher: {'n': 1}]\n",
      "  [Frame 2 --> afficher: {'n': 2}]\n",
      "  [Frame 1 --> afficher: {'n': 4}]\n",
      "\n",
      "  [Frame 2 --> afficher: {'n': 2}]\n",
      "  [Frame 1 --> afficher: {'n': 4}]\n",
      "\n",
      "4\n",
      "  [Frame 2 --> afficher: {'n': 3}]\n",
      "  [Frame 1 --> afficher: {'n': 4}]\n",
      "\n",
      "  [Frame 3 --> afficher: {'n': 1}]\n",
      "  [Frame 2 --> afficher: {'n': 3}]\n",
      "  [Frame 1 --> afficher: {'n': 4}]\n",
      "\n",
      "  [Frame 4 --> afficher: {'n': -1}]\n",
      "  [Frame 3 --> afficher: {'n': 1}]\n",
      "  [Frame 2 --> afficher: {'n': 3}]\n",
      "  [Frame 1 --> afficher: {'n': 4}]\n",
      "\n",
      "1\n",
      "  [Frame 4 --> afficher: {'n': 0}]\n",
      "  [Frame 3 --> afficher: {'n': 1}]\n",
      "  [Frame 2 --> afficher: {'n': 3}]\n",
      "  [Frame 1 --> afficher: {'n': 4}]\n",
      "\n",
      "  [Frame 3 --> afficher: {'n': 1}]\n",
      "  [Frame 2 --> afficher: {'n': 3}]\n",
      "  [Frame 1 --> afficher: {'n': 4}]\n",
      "\n",
      "3\n",
      "  [Frame 3 --> afficher: {'n': 2}]\n",
      "  [Frame 2 --> afficher: {'n': 3}]\n",
      "  [Frame 1 --> afficher: {'n': 4}]\n",
      "\n",
      "  [Frame 4 --> afficher: {'n': 0}]\n",
      "  [Frame 3 --> afficher: {'n': 2}]\n",
      "  [Frame 2 --> afficher: {'n': 3}]\n",
      "  [Frame 1 --> afficher: {'n': 4}]\n",
      "\n",
      "2\n",
      "  [Frame 4 --> afficher: {'n': 1}]\n",
      "  [Frame 3 --> afficher: {'n': 2}]\n",
      "  [Frame 2 --> afficher: {'n': 3}]\n",
      "  [Frame 1 --> afficher: {'n': 4}]\n",
      "\n",
      "  [Frame 5 --> afficher: {'n': -1}]\n",
      "  [Frame 4 --> afficher: {'n': 1}]\n",
      "  [Frame 3 --> afficher: {'n': 2}]\n",
      "  [Frame 2 --> afficher: {'n': 3}]\n",
      "  [Frame 1 --> afficher: {'n': 4}]\n",
      "\n",
      "1\n",
      "  [Frame 5 --> afficher: {'n': 0}]\n",
      "  [Frame 4 --> afficher: {'n': 1}]\n",
      "  [Frame 3 --> afficher: {'n': 2}]\n",
      "  [Frame 2 --> afficher: {'n': 3}]\n",
      "  [Frame 1 --> afficher: {'n': 4}]\n",
      "\n",
      "  [Frame 4 --> afficher: {'n': 1}]\n",
      "  [Frame 3 --> afficher: {'n': 2}]\n",
      "  [Frame 2 --> afficher: {'n': 3}]\n",
      "  [Frame 1 --> afficher: {'n': 4}]\n",
      "\n",
      "  [Frame 3 --> afficher: {'n': 2}]\n",
      "  [Frame 2 --> afficher: {'n': 3}]\n",
      "  [Frame 1 --> afficher: {'n': 4}]\n",
      "\n",
      "  [Frame 2 --> afficher: {'n': 3}]\n",
      "  [Frame 1 --> afficher: {'n': 4}]\n",
      "\n",
      "  [Frame 1 --> afficher: {'n': 4}]\n",
      "\n"
     ]
    }
   ],
   "source": [
    "afficher(4)"
   ]
  },
  {
   "cell_type": "markdown",
   "id": "257f0cd7-0ed2-415a-bd6c-444d57480114",
   "metadata": {},
   "source": [
    "## Récursivité terminale\n",
    "\n",
    "* Une fonction récursive terminale est en théorie plus efficace (mais souvent moins facile à écrire) que son équivalent non terminale : il n'y a qu'une phase de descente et pas de phase de remontée.\n",
    "* En récursivité terminale, les appels récursifs n'ont pas besoin d'être empilés dans la pile d'exécution car l'appel suivant remplace simplement l'appel précédent dans le contexte d'exécution.\n",
    "* Certains langages utilisent cette propriété pour exécuter les récursivités terminales aussi efficacement que les itérations. Attention Python ne prend pas en charge l'optimisation d'appels terminales.\n",
    "* autres..."
   ]
  },
  {
   "cell_type": "code",
   "execution_count": 8,
   "id": "1a4c8483-c799-4cad-9a89-9b42bf69ed3a",
   "metadata": {},
   "outputs": [],
   "source": [
    "def aux(n, r):\n",
    "    \n",
    "    if n == 0:\n",
    "        return r\n",
    "    else:\n",
    "        return aux(n-1, r+n)\n",
    "\n",
    "def mystere3(n):\n",
    "    \n",
    "    return aux(n, 0)"
   ]
  },
  {
   "cell_type": "markdown",
   "id": "dbe0ab83-d328-4216-bf11-bcc67a809aa4",
   "metadata": {},
   "source": [
    "Observons ce qu'il se passe sur la pile pour une récursion terminale. Que remarquez-vous ?"
   ]
  },
  {
   "cell_type": "code",
   "execution_count": 9,
   "id": "5020449a-35f9-4ef4-8e1b-f2a3818a573b",
   "metadata": {},
   "outputs": [],
   "source": [
    "def aux(n, r):\n",
    "    if n == 0:\n",
    "        print(f\"aux({n},{r}) called:\")\n",
    "        print_frames(inspect.stack())\n",
    "        print(f\"aux({0},{r}) returned {r}\")\n",
    "        return r\n",
    "    else:\n",
    "        print(f\"aux({n},{r}) called:\")\n",
    "        print_frames(inspect.stack())\n",
    "        result = aux(n-1, r+n) \n",
    "        print_frames(inspect.stack())\n",
    "        print(f\"aux({n},{r}) returned {result}\")\n",
    "        return result\n",
    "    \n",
    "def mystere3(n):\n",
    "    \n",
    "    return aux(n, 0)"
   ]
  },
  {
   "cell_type": "code",
   "execution_count": 10,
   "id": "a12b5972-5029-4d88-9917-3fca09faf881",
   "metadata": {},
   "outputs": [
    {
     "name": "stdout",
     "output_type": "stream",
     "text": [
      "aux(2,0) called:\n",
      "  [Frame 2 --> aux: {'n': 2, 'r': 0}]\n",
      "  [Frame 1 --> mystere3: {'n': 2}]\n",
      "\n",
      "aux(1,2) called:\n",
      "  [Frame 3 --> aux: {'n': 1, 'r': 2}]\n",
      "  [Frame 2 --> aux: {'n': 2, 'r': 0}]\n",
      "  [Frame 1 --> mystere3: {'n': 2}]\n",
      "\n",
      "aux(0,3) called:\n",
      "  [Frame 4 --> aux: {'n': 0, 'r': 3}]\n",
      "  [Frame 3 --> aux: {'n': 1, 'r': 2}]\n",
      "  [Frame 2 --> aux: {'n': 2, 'r': 0}]\n",
      "  [Frame 1 --> mystere3: {'n': 2}]\n",
      "\n",
      "aux(0,3) returned 3\n",
      "  [Frame 3 --> aux: {'n': 1, 'r': 2, 'result': 3}]\n",
      "  [Frame 2 --> aux: {'n': 2, 'r': 0}]\n",
      "  [Frame 1 --> mystere3: {'n': 2}]\n",
      "\n",
      "aux(1,2) returned 3\n",
      "  [Frame 2 --> aux: {'n': 2, 'r': 0, 'result': 3}]\n",
      "  [Frame 1 --> mystere3: {'n': 2}]\n",
      "\n",
      "aux(2,0) returned 3\n"
     ]
    },
    {
     "data": {
      "text/plain": [
       "3"
      ]
     },
     "execution_count": 10,
     "metadata": {},
     "output_type": "execute_result"
    }
   ],
   "source": [
    "mystere3(2)"
   ]
  }
 ],
 "metadata": {
  "kernelspec": {
   "display_name": "Python 3 (ipykernel)",
   "language": "python",
   "name": "python3"
  },
  "language_info": {
   "codemirror_mode": {
    "name": "ipython",
    "version": 3
   },
   "file_extension": ".py",
   "mimetype": "text/x-python",
   "name": "python",
   "nbconvert_exporter": "python",
   "pygments_lexer": "ipython3",
   "version": "3.9.7"
  }
 },
 "nbformat": 4,
 "nbformat_minor": 5
}
